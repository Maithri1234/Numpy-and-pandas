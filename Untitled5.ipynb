{
 "cells": [
  {
   "cell_type": "code",
   "execution_count": 5,
   "id": "9a9eee52-7436-482f-9878-6c0dd0b0cb2b",
   "metadata": {},
   "outputs": [],
   "source": [
    "# Universal Functions: Fast Element-Wise Array Fuctions"
   ]
  },
  {
   "cell_type": "code",
   "execution_count": null,
   "id": "565eca90-8153-478a-835e-64af001b3251",
   "metadata": {},
   "outputs": [],
   "source": [
    "import numpy as np\n",
    "rng = np.random.default_rng(seed=12345)\n",
    "x=rng.standard_normal(8)\n",
    "y=rng.standard_normal(8)"
   ]
  },
  {
   "cell_type": "code",
   "execution_count": 6,
   "id": "266c6430-5981-4c59-b66a-406b504edfc6",
   "metadata": {},
   "outputs": [
    {
     "data": {
      "text/plain": [
       "array([-1.42382504,  1.26372846, -0.87066174, -0.25917323, -0.07534331,\n",
       "       -0.74088465, -1.3677927 ,  0.6488928 ])"
      ]
     },
     "execution_count": 6,
     "metadata": {},
     "output_type": "execute_result"
    }
   ],
   "source": [
    "x"
   ]
  },
  {
   "cell_type": "code",
   "execution_count": 7,
   "id": "b7f12798-f09e-4edf-bf8c-36f9d5e3056c",
   "metadata": {},
   "outputs": [
    {
     "data": {
      "text/plain": [
       "array([ 0.36105811, -1.95286306,  2.34740965,  0.96849691, -0.75938718,\n",
       "        0.90219827, -0.46695317, -0.06068952])"
      ]
     },
     "execution_count": 7,
     "metadata": {},
     "output_type": "execute_result"
    }
   ],
   "source": [
    "y"
   ]
  },
  {
   "cell_type": "code",
   "execution_count": 9,
   "id": "15598e51-af37-4014-a899-bcec34289c38",
   "metadata": {},
   "outputs": [
    {
     "data": {
      "text/plain": [
       "array([-1.42382504, -1.95286306, -0.87066174, -0.25917323, -0.75938718,\n",
       "       -0.74088465, -1.3677927 , -0.06068952])"
      ]
     },
     "execution_count": 9,
     "metadata": {},
     "output_type": "execute_result"
    }
   ],
   "source": [
    "np.minimum(x, y)"
   ]
  },
  {
   "cell_type": "code",
   "execution_count": 10,
   "id": "d7b50ca4-14db-4f9a-b714-4c8289b60ace",
   "metadata": {},
   "outputs": [
    {
     "data": {
      "text/plain": [
       "array([ 0.36105811,  1.26372846,  2.34740965,  0.96849691, -0.07534331,\n",
       "        0.90219827, -0.46695317,  0.6488928 ])"
      ]
     },
     "execution_count": 10,
     "metadata": {},
     "output_type": "execute_result"
    }
   ],
   "source": [
    "np.maximum(x, y)"
   ]
  },
  {
   "cell_type": "code",
   "execution_count": 16,
   "id": "e0f20620-9f73-474d-9742-480378be8ae3",
   "metadata": {},
   "outputs": [
    {
     "data": {
      "text/plain": [
       "array([ 3.88680672,  4.14316598, -4.79494157, -6.04694143, -7.06146007,\n",
       "        2.70773415,  3.75969698])"
      ]
     },
     "execution_count": 16,
     "metadata": {},
     "output_type": "execute_result"
    }
   ],
   "source": [
    "arr = rng.standard_normal(7) * 5\n",
    "arr"
   ]
  },
  {
   "cell_type": "code",
   "execution_count": 17,
   "id": "04c85e3a-4384-4927-bed7-4580d95bfce3",
   "metadata": {},
   "outputs": [],
   "source": [
    "remainder, whole_part = np.modf(arr)\n",
    "#A vectorized version of the built-in Python math.modf, it returns the fractional and integral parts of a floating-point array:"
   ]
  },
  {
   "cell_type": "code",
   "execution_count": 18,
   "id": "4fb723eb-ab2d-426c-9fb1-d0f8704ce1c9",
   "metadata": {},
   "outputs": [
    {
     "data": {
      "text/plain": [
       "array([ 0.88680672,  0.14316598, -0.79494157, -0.04694143, -0.06146007,\n",
       "        0.70773415,  0.75969698])"
      ]
     },
     "execution_count": 18,
     "metadata": {},
     "output_type": "execute_result"
    }
   ],
   "source": [
    "remainder"
   ]
  },
  {
   "cell_type": "code",
   "execution_count": 19,
   "id": "65b05996-1695-46b0-b594-3a70d34cff54",
   "metadata": {},
   "outputs": [
    {
     "data": {
      "text/plain": [
       "array([ 3.,  4., -4., -6., -7.,  2.,  3.])"
      ]
     },
     "execution_count": 19,
     "metadata": {},
     "output_type": "execute_result"
    }
   ],
   "source": [
    "whole_part"
   ]
  },
  {
   "cell_type": "code",
   "execution_count": 20,
   "id": "c0f33fa6-7a68-4fb2-914b-a5b8c786e90d",
   "metadata": {},
   "outputs": [
    {
     "data": {
      "text/plain": [
       "array([ 3.88680672,  4.14316598, -4.79494157, -6.04694143, -7.06146007,\n",
       "        2.70773415,  3.75969698])"
      ]
     },
     "execution_count": 20,
     "metadata": {},
     "output_type": "execute_result"
    }
   ],
   "source": [
    "arr"
   ]
  },
  {
   "cell_type": "code",
   "execution_count": 21,
   "id": "ab1af19e-c616-4308-8a9b-90d1e106e98a",
   "metadata": {},
   "outputs": [],
   "source": [
    "out = np.zeros_like(arr)"
   ]
  },
  {
   "cell_type": "code",
   "execution_count": 22,
   "id": "eee987af-1574-425d-936b-4cf29f06636e",
   "metadata": {},
   "outputs": [
    {
     "data": {
      "text/plain": [
       "array([0., 0., 0., 0., 0., 0., 0.])"
      ]
     },
     "execution_count": 22,
     "metadata": {},
     "output_type": "execute_result"
    }
   ],
   "source": [
    "out"
   ]
  },
  {
   "cell_type": "code",
   "execution_count": 23,
   "id": "cf5b847e-03bb-43a4-b469-598e62d45697",
   "metadata": {},
   "outputs": [
    {
     "data": {
      "text/plain": [
       "array([ 4.88680672,  5.14316598, -3.79494157, -5.04694143, -6.06146007,\n",
       "        3.70773415,  4.75969698])"
      ]
     },
     "execution_count": 23,
     "metadata": {},
     "output_type": "execute_result"
    }
   ],
   "source": [
    "np.add(arr, 1)"
   ]
  },
  {
   "cell_type": "code",
   "execution_count": 58,
   "id": "6ccd8fae-0e8c-4c94-a42f-9884d8714222",
   "metadata": {},
   "outputs": [
    {
     "data": {
      "text/plain": [
       "array([ 2,  7, 12, 17])"
      ]
     },
     "execution_count": 58,
     "metadata": {},
     "output_type": "execute_result"
    }
   ],
   "source": [
    "import numpy as np\n",
    "rng = np.random.default_rng(seed=12345)\n",
    "arr=np.arange(2,18,5)\n",
    "arr"
   ]
  },
  {
   "cell_type": "code",
   "execution_count": 60,
   "id": "2c2d6ba1-058d-4f2c-8a48-811090c7d777",
   "metadata": {},
   "outputs": [
    {
     "data": {
      "text/plain": [
       "array([ 2.,  7., 12., 17.])"
      ]
     },
     "execution_count": 60,
     "metadata": {},
     "output_type": "execute_result"
    }
   ],
   "source": [
    "np.abs(arr)\n",
    "np.fabs(arr)\n",
    "#abs, fabs Compute the absolute value element-wise for integer, floating-point, or complex values"
   ]
  },
  {
   "cell_type": "code",
   "execution_count": 36,
   "id": "89c0636c-1e10-4737-bbd1-69aa3a13a09e",
   "metadata": {},
   "outputs": [
    {
     "data": {
      "text/plain": [
       "array([1.41421356, 2.64575131, 3.46410162, 4.12310563])"
      ]
     },
     "execution_count": 36,
     "metadata": {},
     "output_type": "execute_result"
    }
   ],
   "source": [
    "np.sqrt(arr)\n",
    "#sqrt->Compute the square root of each element (equivalent to arr ** 0.5)\n"
   ]
  },
  {
   "cell_type": "code",
   "execution_count": 37,
   "id": "c9dbb31c-779f-4013-8829-40feafe9ce8a",
   "metadata": {},
   "outputs": [
    {
     "data": {
      "text/plain": [
       "array([  4,  49, 144, 289])"
      ]
     },
     "execution_count": 37,
     "metadata": {},
     "output_type": "execute_result"
    }
   ],
   "source": [
    "np.square(arr)\n",
    "#square->Compute the square of each element (equivalent to arr ** 2)\n"
   ]
  },
  {
   "cell_type": "code",
   "execution_count": 38,
   "id": "8205389d-77d4-4a80-ab01-c4d6f9a501a2",
   "metadata": {},
   "outputs": [
    {
     "data": {
      "text/plain": [
       "array([7.38905610e+00, 1.09663316e+03, 1.62754791e+05, 2.41549528e+07])"
      ]
     },
     "execution_count": 38,
     "metadata": {},
     "output_type": "execute_result"
    }
   ],
   "source": [
    "np.exp(arr)\n",
    "#exp Compute the exponent ex of each element"
   ]
  },
  {
   "cell_type": "code",
   "execution_count": 39,
   "id": "99b38f71-aa34-4d81-949c-71a4b7c7d912",
   "metadata": {},
   "outputs": [
    {
     "data": {
      "text/plain": [
       "array([0.69314718, 1.94591015, 2.48490665, 2.83321334])"
      ]
     },
     "execution_count": 39,
     "metadata": {},
     "output_type": "execute_result"
    }
   ],
   "source": [
    "np.log(arr)"
   ]
  },
  {
   "cell_type": "code",
   "execution_count": 40,
   "id": "a07f0865-e399-4ae8-a071-4d2d27f0e71f",
   "metadata": {},
   "outputs": [
    {
     "data": {
      "text/plain": [
       "array([0.30103   , 0.84509804, 1.07918125, 1.23044892])"
      ]
     },
     "execution_count": 40,
     "metadata": {},
     "output_type": "execute_result"
    }
   ],
   "source": [
    "np.log10(arr)"
   ]
  },
  {
   "cell_type": "code",
   "execution_count": 41,
   "id": "a3e98219-f418-44c7-a010-d6e6a2c578ab",
   "metadata": {},
   "outputs": [
    {
     "data": {
      "text/plain": [
       "array([1, 1, 1, 1])"
      ]
     },
     "execution_count": 41,
     "metadata": {},
     "output_type": "execute_result"
    }
   ],
   "source": [
    "np.sign(arr)\n",
    "#sign Compute the sign of each element: 1 (positive), 0 (zero), or –1 (negative)"
   ]
  },
  {
   "cell_type": "code",
   "execution_count": 42,
   "id": "11d92986-5b5c-4749-8bb9-b02c706b21e5",
   "metadata": {},
   "outputs": [
    {
     "data": {
      "text/plain": [
       "array([ 2.,  7., 12., 17.])"
      ]
     },
     "execution_count": 42,
     "metadata": {},
     "output_type": "execute_result"
    }
   ],
   "source": [
    "np.ceil(arr)\n",
    "#ceil Compute the ceiling of each element (i.e., the smallest integer greater than or equal to that number)"
   ]
  },
  {
   "cell_type": "code",
   "execution_count": 43,
   "id": "3bbe0e77-b258-4719-a13f-507745347b87",
   "metadata": {},
   "outputs": [
    {
     "data": {
      "text/plain": [
       "array([ 2.,  7., 12., 17.])"
      ]
     },
     "execution_count": 43,
     "metadata": {},
     "output_type": "execute_result"
    }
   ],
   "source": [
    "np.floor(arr)\n",
    "#floor Compute the floor of each element (i.e., the largest integer less than or equal to each element)"
   ]
  },
  {
   "cell_type": "code",
   "execution_count": 44,
   "id": "0d6fcc9e-f46b-4b41-a30d-f657a9c87d4f",
   "metadata": {},
   "outputs": [
    {
     "data": {
      "text/plain": [
       "array([ 2.,  7., 12., 17.])"
      ]
     },
     "execution_count": 44,
     "metadata": {},
     "output_type": "execute_result"
    }
   ],
   "source": [
    "np.rint(arr)\n",
    "#rint Round elements to the nearest integer, preserving the dtype\n"
   ]
  },
  {
   "cell_type": "code",
   "execution_count": 45,
   "id": "84b36104-5e42-4465-87ef-caa5c34d9535",
   "metadata": {},
   "outputs": [
    {
     "data": {
      "text/plain": [
       "(array([0., 0., 0., 0.]), array([ 2.,  7., 12., 17.]))"
      ]
     },
     "execution_count": 45,
     "metadata": {},
     "output_type": "execute_result"
    }
   ],
   "source": [
    "np.modf(arr)\n",
    "#modf Return fractional and integral parts of array as separate arrays"
   ]
  },
  {
   "cell_type": "code",
   "execution_count": 46,
   "id": "33e5f3cf-93b1-4dba-a6d5-e7ee29d6ef00",
   "metadata": {},
   "outputs": [
    {
     "data": {
      "text/plain": [
       "array([False, False, False, False])"
      ]
     },
     "execution_count": 46,
     "metadata": {},
     "output_type": "execute_result"
    }
   ],
   "source": [
    "np.isnan(arr)\n",
    "#isnan Return Boolean array indicating whether each value is NaN (Not a Number)"
   ]
  },
  {
   "cell_type": "code",
   "execution_count": 63,
   "id": "9f252830-1c9a-4b24-b376-6e8aa712df6e",
   "metadata": {},
   "outputs": [
    {
     "data": {
      "text/plain": [
       "array([ True,  True,  True,  True])"
      ]
     },
     "execution_count": 63,
     "metadata": {},
     "output_type": "execute_result"
    }
   ],
   "source": [
    "np.isfinite(arr)\n",
    "#isfinite, isinf Return Boolean array indicating whether each element is finite (non-inf, non-NaN) or infinite,"
   ]
  },
  {
   "cell_type": "code",
   "execution_count": 64,
   "id": "85edc98f-f5a3-4655-ae49-bec7ad011683",
   "metadata": {},
   "outputs": [
    {
     "data": {
      "text/plain": [
       "array([False, False, False, False])"
      ]
     },
     "execution_count": 64,
     "metadata": {},
     "output_type": "execute_result"
    }
   ],
   "source": [
    "np.isinf(arr)"
   ]
  },
  {
   "cell_type": "code",
   "execution_count": 65,
   "id": "07e372b3-7efb-4f4f-a963-b872d7285ec5",
   "metadata": {},
   "outputs": [
    {
     "data": {
      "text/plain": [
       "array([-0.41614684,  0.75390225,  0.84385396, -0.27516334])"
      ]
     },
     "execution_count": 65,
     "metadata": {},
     "output_type": "execute_result"
    }
   ],
   "source": [
    "np.cos(arr)"
   ]
  },
  {
   "cell_type": "code",
   "execution_count": 66,
   "id": "ebf75067-5146-42e3-93d5-e192ac916796",
   "metadata": {},
   "outputs": [
    {
     "data": {
      "text/plain": [
       "array([3.76219569e+00, 5.48317035e+02, 8.13773957e+04, 1.20774764e+07])"
      ]
     },
     "execution_count": 66,
     "metadata": {},
     "output_type": "execute_result"
    }
   ],
   "source": [
    "np.cosh(arr)"
   ]
  },
  {
   "cell_type": "code",
   "execution_count": 68,
   "id": "8a396928-6c1f-49b1-ac22-77cf8db90e79",
   "metadata": {},
   "outputs": [
    {
     "name": "stderr",
     "output_type": "stream",
     "text": [
      "C:\\Users\\DELL\\AppData\\Local\\Temp\\ipykernel_3340\\3874515196.py:1: RuntimeWarning: invalid value encountered in arccos\n",
      "  np.arccos(arr)\n"
     ]
    },
    {
     "data": {
      "text/plain": [
       "array([nan, nan, nan, nan])"
      ]
     },
     "execution_count": 68,
     "metadata": {},
     "output_type": "execute_result"
    }
   ],
   "source": [
    "np.arccos(arr)"
   ]
  },
  {
   "cell_type": "code",
   "execution_count": 69,
   "id": "ca8e014a-70f2-4732-8dba-a23c468428cb",
   "metadata": {},
   "outputs": [
    {
     "data": {
      "text/plain": [
       "array([1.10714872, 1.42889927, 1.48765509, 1.5120405 ])"
      ]
     },
     "execution_count": 69,
     "metadata": {},
     "output_type": "execute_result"
    }
   ],
   "source": [
    "np.arctan(arr)"
   ]
  },
  {
   "cell_type": "code",
   "execution_count": 70,
   "id": "5697fa94-b57b-40dc-a15f-da418bf412de",
   "metadata": {},
   "outputs": [
    {
     "data": {
      "text/plain": [
       "array([False, False, False, False])"
      ]
     },
     "execution_count": 70,
     "metadata": {},
     "output_type": "execute_result"
    }
   ],
   "source": [
    "np.logical_not(arr)"
   ]
  },
  {
   "cell_type": "code",
   "execution_count": null,
   "id": "c69390ac-5893-4950-87ab-a5177d93f599",
   "metadata": {},
   "outputs": [],
   "source": []
  }
 ],
 "metadata": {
  "kernelspec": {
   "display_name": "Python 3 (ipykernel)",
   "language": "python",
   "name": "python3"
  },
  "language_info": {
   "codemirror_mode": {
    "name": "ipython",
    "version": 3
   },
   "file_extension": ".py",
   "mimetype": "text/x-python",
   "name": "python",
   "nbconvert_exporter": "python",
   "pygments_lexer": "ipython3",
   "version": "3.11.7"
  }
 },
 "nbformat": 4,
 "nbformat_minor": 5
}
