{
 "cells": [
  {
   "cell_type": "code",
   "execution_count": null,
   "id": "6346c2d8-4b76-4fd4-a67a-777787a2bc2a",
   "metadata": {},
   "outputs": [],
   "source": [
    "*********** Some binary universal functions **************"
   ]
  },
  {
   "cell_type": "code",
   "execution_count": 4,
   "id": "bf61c19e-eb1c-4b35-b864-6156f132bb51",
   "metadata": {},
   "outputs": [
    {
     "data": {
      "text/plain": [
       "array([0, 1, 2, 3, 4, 5, 6, 7, 8, 9])"
      ]
     },
     "execution_count": 4,
     "metadata": {},
     "output_type": "execute_result"
    }
   ],
   "source": [
    "import numpy as np\n",
    "rng = np.random.default_rng(seed=12345)\n",
    "arr=np.arange(10)\n",
    "arr"
   ]
  },
  {
   "cell_type": "code",
   "execution_count": 6,
   "id": "1ac004f0-3c43-441e-bb1b-cb6e7fc44013",
   "metadata": {},
   "outputs": [
    {
     "data": {
      "text/plain": [
       "array([ 2,  3,  4,  5,  6,  7,  8,  9, 10, 11])"
      ]
     },
     "execution_count": 6,
     "metadata": {},
     "output_type": "execute_result"
    }
   ],
   "source": [
    "np.add(arr,2)\n",
    "#add Add corresponding elements in arrays"
   ]
  },
  {
   "cell_type": "code",
   "execution_count": 9,
   "id": "f5765062-e8b5-47e7-9e1a-98f434bddc3b",
   "metadata": {},
   "outputs": [
    {
     "data": {
      "text/plain": [
       "array([-1,  0,  1,  2,  3,  4,  5,  6,  7,  8])"
      ]
     },
     "execution_count": 9,
     "metadata": {},
     "output_type": "execute_result"
    }
   ],
   "source": [
    "np.subtract(arr,1)\n",
    "#subtract Subtract elements in second array from first array"
   ]
  },
  {
   "cell_type": "code",
   "execution_count": 10,
   "id": "3372e3b8-8ee6-464e-906f-48c4e5f48d2f",
   "metadata": {},
   "outputs": [
    {
     "data": {
      "text/plain": [
       "array([ 0,  3,  6,  9, 12, 15, 18, 21, 24, 27])"
      ]
     },
     "execution_count": 10,
     "metadata": {},
     "output_type": "execute_result"
    }
   ],
   "source": [
    "np.multiply(arr, 3)\n",
    "#multiply Multiply array elements\n"
   ]
  },
  {
   "cell_type": "code",
   "execution_count": 48,
   "id": "e213baa1-0d6e-4bc4-9c95-426c88d5f956",
   "metadata": {},
   "outputs": [
    {
     "name": "stdout",
     "output_type": "stream",
     "text": [
      "a [0 1 2 3 4]\n",
      "b [ 6  7  8  9 10]\n",
      "[ 6  8 10 12 14]\n",
      "[-6 -6 -6 -6 -6]\n",
      "[ 0  7 16 27 40]\n",
      "[0.         0.14285714 0.25       0.33333333 0.4       ]\n",
      "[      0       1     256   19683 1048576]\n",
      "[ 6  7  8  9 10]\n",
      "[0 1 2 3 4]\n",
      "[0 1 2 3 4]\n",
      "[0. 1. 2. 3. 4.]\n",
      "[ True  True  True  True  True]\n",
      "[False False False False False]\n",
      "[ True  True  True  True  True]\n",
      "[False  True  True  True  True]\n",
      "[ True  True  True  True  True]\n",
      "[ True False False False False]\n"
     ]
    }
   ],
   "source": [
    "import numpy as np\n",
    "rng = np.random.default_rng(seed=12345)\n",
    "a=np.arange(5)\n",
    "b=np.arange(6,11)\n",
    "print(\"a\",a)\n",
    "print(\"b\",b)\n",
    "c=np.add(a, b)\n",
    "d=np.subtract(a, b)\n",
    "m=np.multiply(a, b)\n",
    "p=np.divide(a, b)\n",
    "f=np.floor_divide(a, b)\n",
    "q=np.power(a, b)\n",
    "max=np.maximum(a, b)\n",
    "min=np.minimum(a, b)\n",
    "mod=np.mod(a, b)\n",
    "sign=np.copysign(a, b)\n",
    "gre=np.greater(b, a)\n",
    "gre1=np.greater_equal(a,b)\n",
    "equal=np.not_equal(a, b)\n",
    "log_add=np.logical_and(a, b)\n",
    "log_or=np.logical_or(a, b)\n",
    "log_xor=np.logical_xor(a, b)\n",
    "print(c)\n",
    "print(d)\n",
    "print(m)\n",
    "print(p)\n",
    "print(q)\n",
    "print(max)\n",
    "print(min)\n",
    "print(mod)\n",
    "print(sign)\n",
    "print(gre)\n",
    "print(gre1)\n",
    "print(equal)\n",
    "print(log_add)\n",
    "print(log_or)\n",
    "print(log_xor)"
   ]
  },
  {
   "cell_type": "code",
   "execution_count": null,
   "id": "514f0f15-19b8-4e54-8d7c-fbb9967e5d5e",
   "metadata": {},
   "outputs": [],
   "source": []
  },
  {
   "cell_type": "code",
   "execution_count": null,
   "id": "903ba99b-1d0c-49a6-b4c0-685290fb3b44",
   "metadata": {},
   "outputs": [],
   "source": []
  }
 ],
 "metadata": {
  "kernelspec": {
   "display_name": "Python 3 (ipykernel)",
   "language": "python",
   "name": "python3"
  },
  "language_info": {
   "codemirror_mode": {
    "name": "ipython",
    "version": 3
   },
   "file_extension": ".py",
   "mimetype": "text/x-python",
   "name": "python",
   "nbconvert_exporter": "python",
   "pygments_lexer": "ipython3",
   "version": "3.11.7"
  }
 },
 "nbformat": 4,
 "nbformat_minor": 5
}
