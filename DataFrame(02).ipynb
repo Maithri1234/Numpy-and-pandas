{
 "cells": [
  {
   "cell_type": "code",
   "execution_count": 1,
   "id": "4003ca7c-4f3a-4e0c-969a-f7c01dd89b6e",
   "metadata": {},
   "outputs": [
    {
     "data": {
      "text/html": [
       "<div>\n",
       "<style scoped>\n",
       "    .dataframe tbody tr th:only-of-type {\n",
       "        vertical-align: middle;\n",
       "    }\n",
       "\n",
       "    .dataframe tbody tr th {\n",
       "        vertical-align: top;\n",
       "    }\n",
       "\n",
       "    .dataframe thead th {\n",
       "        text-align: right;\n",
       "    }\n",
       "</style>\n",
       "<table border=\"1\" class=\"dataframe\">\n",
       "  <thead>\n",
       "    <tr style=\"text-align: right;\">\n",
       "      <th></th>\n",
       "      <th>chennai</th>\n",
       "      <th>USA</th>\n",
       "    </tr>\n",
       "  </thead>\n",
       "  <tbody>\n",
       "    <tr>\n",
       "      <th>2000</th>\n",
       "      <td>1</td>\n",
       "      <td>3.0</td>\n",
       "    </tr>\n",
       "    <tr>\n",
       "      <th>2001</th>\n",
       "      <td>3</td>\n",
       "      <td>NaN</td>\n",
       "    </tr>\n",
       "    <tr>\n",
       "      <th>2002</th>\n",
       "      <td>4</td>\n",
       "      <td>5.0</td>\n",
       "    </tr>\n",
       "  </tbody>\n",
       "</table>\n",
       "</div>"
      ],
      "text/plain": [
       "      chennai  USA\n",
       "2000        1  3.0\n",
       "2001        3  NaN\n",
       "2002        4  5.0"
      ]
     },
     "execution_count": 1,
     "metadata": {},
     "output_type": "execute_result"
    }
   ],
   "source": [
    "import pandas as pd\n",
    "populations = {\"chennai\":{2000:1, 2001:3, 2002:4},\n",
    "               \"USA\":{2000:3.0, 2002:5}}\n",
    "frame = pd.DataFrame(populations)\n",
    "frame"
   ]
  },
  {
   "cell_type": "code",
   "execution_count": 2,
   "id": "d62ffaf3-1933-4d8d-bb53-cf5625ab0910",
   "metadata": {},
   "outputs": [
    {
     "data": {
      "text/html": [
       "<div>\n",
       "<style scoped>\n",
       "    .dataframe tbody tr th:only-of-type {\n",
       "        vertical-align: middle;\n",
       "    }\n",
       "\n",
       "    .dataframe tbody tr th {\n",
       "        vertical-align: top;\n",
       "    }\n",
       "\n",
       "    .dataframe thead th {\n",
       "        text-align: right;\n",
       "    }\n",
       "</style>\n",
       "<table border=\"1\" class=\"dataframe\">\n",
       "  <thead>\n",
       "    <tr style=\"text-align: right;\">\n",
       "      <th>state</th>\n",
       "      <th>chennai</th>\n",
       "      <th>USA</th>\n",
       "    </tr>\n",
       "    <tr>\n",
       "      <th>year</th>\n",
       "      <th></th>\n",
       "      <th></th>\n",
       "    </tr>\n",
       "  </thead>\n",
       "  <tbody>\n",
       "    <tr>\n",
       "      <th>2000</th>\n",
       "      <td>1</td>\n",
       "      <td>3.0</td>\n",
       "    </tr>\n",
       "    <tr>\n",
       "      <th>2001</th>\n",
       "      <td>3</td>\n",
       "      <td>NaN</td>\n",
       "    </tr>\n",
       "    <tr>\n",
       "      <th>2002</th>\n",
       "      <td>4</td>\n",
       "      <td>5.0</td>\n",
       "    </tr>\n",
       "  </tbody>\n",
       "</table>\n",
       "</div>"
      ],
      "text/plain": [
       "state  chennai  USA\n",
       "year               \n",
       "2000         1  3.0\n",
       "2001         3  NaN\n",
       "2002         4  5.0"
      ]
     },
     "execution_count": 2,
     "metadata": {},
     "output_type": "execute_result"
    }
   ],
   "source": [
    "#index and columns have name attribute set\n",
    "frame.index.name = \"year\"\n",
    "frame.columns.name = \"state\"\n",
    "frame"
   ]
  },
  {
   "cell_type": "code",
   "execution_count": 4,
   "id": "7b2aa1e7-09ea-4565-88d2-086945348667",
   "metadata": {},
   "outputs": [
    {
     "data": {
      "text/plain": [
       "array([[ 1.,  3.],\n",
       "       [ 3., nan],\n",
       "       [ 4.,  5.]])"
      ]
     },
     "execution_count": 4,
     "metadata": {},
     "output_type": "execute_result"
    }
   ],
   "source": [
    "frame.to_numpy()"
   ]
  },
  {
   "cell_type": "code",
   "execution_count": 6,
   "id": "2c26e793-2616-4ad7-b4d5-363a1db6c8d5",
   "metadata": {},
   "outputs": [],
   "source": [
    "#----------INDEX OBJECTS-------------"
   ]
  },
  {
   "cell_type": "code",
   "execution_count": 10,
   "id": "832a34a3-1243-46bd-abde-70d233c2d97f",
   "metadata": {},
   "outputs": [
    {
     "data": {
      "text/plain": [
       "Index(['a', 'b', 'c'], dtype='object')"
      ]
     },
     "execution_count": 10,
     "metadata": {},
     "output_type": "execute_result"
    }
   ],
   "source": [
    "import numpy as np\n",
    "obj = pd.DataFrame(np.arange(3), index=[\"a\", \"b\", \"c\"])\n",
    "index = obj.index\n",
    "index"
   ]
  },
  {
   "cell_type": "code",
   "execution_count": 11,
   "id": "4f750865-5307-4b90-9ca9-22ce837315d4",
   "metadata": {},
   "outputs": [
    {
     "data": {
      "text/plain": [
       "Index(['b', 'c'], dtype='object')"
      ]
     },
     "execution_count": 11,
     "metadata": {},
     "output_type": "execute_result"
    }
   ],
   "source": [
    "index[1:]"
   ]
  },
  {
   "cell_type": "code",
   "execution_count": 12,
   "id": "93da220f-40c4-4c76-ac66-d2be0568afb5",
   "metadata": {},
   "outputs": [
    {
     "data": {
      "text/plain": [
       "Index(['a'], dtype='object')"
      ]
     },
     "execution_count": 12,
     "metadata": {},
     "output_type": "execute_result"
    }
   ],
   "source": [
    "index[:1]"
   ]
  },
  {
   "cell_type": "code",
   "execution_count": 15,
   "id": "2aace97f-9236-4f6c-94e0-de49310e6296",
   "metadata": {},
   "outputs": [
    {
     "data": {
      "text/plain": [
       "Index([0, 1, 2], dtype='int32')"
      ]
     },
     "execution_count": 15,
     "metadata": {},
     "output_type": "execute_result"
    }
   ],
   "source": [
    "import numpy as np\n",
    "obj2 = pd.Index(np.arange(3))\n",
    "obj2"
   ]
  },
  {
   "cell_type": "code",
   "execution_count": 17,
   "id": "ca4d2924-1551-4c52-bc1c-188747f2a1e7",
   "metadata": {},
   "outputs": [
    {
     "data": {
      "text/plain": [
       "0    1.4\n",
       "1   -3.8\n",
       "2    2.0\n",
       "dtype: float64"
      ]
     },
     "execution_count": 17,
     "metadata": {},
     "output_type": "execute_result"
    }
   ],
   "source": [
    "obj3 = pd.Series([1.4, -3.8, 2], index=obj2)\n",
    "obj3"
   ]
  },
  {
   "cell_type": "code",
   "execution_count": 18,
   "id": "8331988a-deb8-42ed-9e48-008a3a6a094e",
   "metadata": {},
   "outputs": [
    {
     "data": {
      "text/plain": [
       "Index(['chennai', 'USA'], dtype='object', name='state')"
      ]
     },
     "execution_count": 18,
     "metadata": {},
     "output_type": "execute_result"
    }
   ],
   "source": [
    "frame.columns"
   ]
  },
  {
   "cell_type": "code",
   "execution_count": 20,
   "id": "112b00b2-153d-4de1-b57f-d43605f3ead6",
   "metadata": {},
   "outputs": [
    {
     "data": {
      "text/plain": [
       "Index(['foo', 'foo', 'bar', 'bar', 'ohio'], dtype='object')"
      ]
     },
     "execution_count": 20,
     "metadata": {},
     "output_type": "execute_result"
    }
   ],
   "source": [
    "#pandas index can contain the duplicate labels\n",
    "import pandas as pd\n",
    "pd.Index([\"foo\", \"foo\", \"bar\", \"bar\", \"ohio\"])"
   ]
  },
  {
   "cell_type": "code",
   "execution_count": 22,
   "id": "2ebbf068-e845-4fb9-9b07-df863608b939",
   "metadata": {},
   "outputs": [],
   "source": [
    "#**********SOME INDEX METHODS AND PROPERTIES*********"
   ]
  },
  {
   "cell_type": "code",
   "execution_count": 25,
   "id": "110aa283-4d6a-474d-b7dd-dad478ef66dd",
   "metadata": {},
   "outputs": [
    {
     "data": {
      "text/plain": [
       "array([0, 1, 2, 4, 5, 6])"
      ]
     },
     "execution_count": 25,
     "metadata": {},
     "output_type": "execute_result"
    }
   ],
   "source": [
    "import pandas as pd\n",
    "a = pd.Index(np.arange(3))\n",
    "b = pd.Index(np.array([4,5,6]))\n",
    "c = np.append(a, b)\n",
    "c"
   ]
  },
  {
   "cell_type": "code",
   "execution_count": 29,
   "id": "d98dd5cb-2ddd-4a88-af30-f9331608993c",
   "metadata": {},
   "outputs": [
    {
     "data": {
      "text/plain": [
       "Index([1, 2, 3, 4, 3, 4, 5, 6], dtype='int64')"
      ]
     },
     "execution_count": 29,
     "metadata": {},
     "output_type": "execute_result"
    }
   ],
   "source": [
    "import pandas as pd\n",
    "index_1 = pd.Index([1,2,3,4])\n",
    "index_2 = pd.Index([3,4,5,6])\n",
    "append = index_1.append(index_2) #camcatenate both the values, producing a new data\n",
    "append"
   ]
  },
  {
   "cell_type": "code",
   "execution_count": 31,
   "id": "f69631a6-884d-4887-ae2c-6a4645f27902",
   "metadata": {},
   "outputs": [
    {
     "data": {
      "text/plain": [
       "Index([1, 2], dtype='int64')"
      ]
     },
     "execution_count": 31,
     "metadata": {},
     "output_type": "execute_result"
    }
   ],
   "source": [
    "diff = index_1.difference(index_2)  #compute difference as an index\n",
    "diff"
   ]
  },
  {
   "cell_type": "code",
   "execution_count": 32,
   "id": "41338e9c-19db-492f-946c-b3520ee9f46b",
   "metadata": {},
   "outputs": [
    {
     "data": {
      "text/plain": [
       "Index([3, 4], dtype='int64')"
      ]
     },
     "execution_count": 32,
     "metadata": {},
     "output_type": "execute_result"
    }
   ],
   "source": [
    "intersection = index_1.intersection(index_2) #set intersection\n",
    "intersection "
   ]
  },
  {
   "cell_type": "code",
   "execution_count": 33,
   "id": "656fccd5-bfcd-49eb-9a0d-9ea6e812b58b",
   "metadata": {},
   "outputs": [
    {
     "data": {
      "text/plain": [
       "Index([1, 2, 3, 4, 5, 6], dtype='int64')"
      ]
     },
     "execution_count": 33,
     "metadata": {},
     "output_type": "execute_result"
    }
   ],
   "source": [
    "union = index_1.union(index_2) #set union\n",
    "union"
   ]
  },
  {
   "cell_type": "code",
   "execution_count": 42,
   "id": "177a27a8-3e87-40d5-bcf6-1def967fcc1f",
   "metadata": {},
   "outputs": [
    {
     "name": "stdout",
     "output_type": "stream",
     "text": [
      "0    False\n",
      "1     True\n",
      "2    False\n",
      "3     True\n",
      "4    False\n",
      "5     True\n",
      "dtype: bool\n"
     ]
    }
   ],
   "source": [
    "data = pd.Series([1,2,3,4,5,6])\n",
    "collection = [2,4,6]\n",
    "result = data.isin(collection)\n",
    "print(result)"
   ]
  },
  {
   "cell_type": "code",
   "execution_count": 35,
   "id": "bb8045ce-84a5-4e0f-9a3b-eb59db3afa41",
   "metadata": {},
   "outputs": [
    {
     "data": {
      "text/plain": [
       "Index([1, 2, 4], dtype='int64')"
      ]
     },
     "execution_count": 35,
     "metadata": {},
     "output_type": "execute_result"
    }
   ],
   "source": [
    "delete = index_1.delete(2) #index element is deleted\n",
    "delete"
   ]
  },
  {
   "cell_type": "code",
   "execution_count": 37,
   "id": "3bb139e0-10fb-4379-8966-d9adf41d990b",
   "metadata": {},
   "outputs": [
    {
     "data": {
      "text/plain": [
       "Index([1, 4], dtype='int64')"
      ]
     },
     "execution_count": 37,
     "metadata": {},
     "output_type": "execute_result"
    }
   ],
   "source": [
    "drop = index_1.drop([2,3]) #deleting the passed values\n",
    "drop"
   ]
  },
  {
   "cell_type": "code",
   "execution_count": 40,
   "id": "57e8bad8-5f20-4441-a83d-a5f350723380",
   "metadata": {},
   "outputs": [
    {
     "name": "stdout",
     "output_type": "stream",
     "text": [
      "Index([1, 2, 10, 3, 4], dtype='int64')\n",
      "Index([3, 4, 5, 30, 6], dtype='int64')\n"
     ]
    }
   ],
   "source": [
    "insert_1 = index_1.insert(2, 10) #inserting giving the elements\n",
    "insert_2 = index_2.insert(3, 30)\n",
    "print(insert_1)\n",
    "print(insert_2)"
   ]
  },
  {
   "cell_type": "code",
   "execution_count": 45,
   "id": "738b169b-dfbc-4229-919a-a6af05e17b70",
   "metadata": {},
   "outputs": [
    {
     "name": "stdout",
     "output_type": "stream",
     "text": [
      "True\n"
     ]
    }
   ],
   "source": [
    "data = {'A':[1,2,3,4],\n",
    "        'B':['a','b','c','d']}\n",
    "df = pd.DataFrame(data, index=['foo','bar','baz','quz']) \n",
    "#index in the DataFrame 'df' is unique or not.If index is unique it will 'True' otherwise it will print 'False'\n",
    "index = df.index.is_unique\n",
    "print(index)"
   ]
  },
  {
   "cell_type": "code",
   "execution_count": null,
   "id": "8a5627a2-f16b-4d57-b73f-1f647d55bdbf",
   "metadata": {},
   "outputs": [],
   "source": []
  }
 ],
 "metadata": {
  "kernelspec": {
   "display_name": "Python 3 (ipykernel)",
   "language": "python",
   "name": "python3"
  },
  "language_info": {
   "codemirror_mode": {
    "name": "ipython",
    "version": 3
   },
   "file_extension": ".py",
   "mimetype": "text/x-python",
   "name": "python",
   "nbconvert_exporter": "python",
   "pygments_lexer": "ipython3",
   "version": "3.11.7"
  }
 },
 "nbformat": 4,
 "nbformat_minor": 5
}
