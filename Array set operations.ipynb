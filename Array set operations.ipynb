{
 "cells": [
  {
   "cell_type": "code",
   "execution_count": null,
   "id": "2ca8636d-55af-4a78-b412-89a0f70de786",
   "metadata": {},
   "outputs": [],
   "source": [
    "*******UNIQUE AND SET LOGIC******\n",
    "ARRAY SET OPERATIONS"
   ]
  },
  {
   "cell_type": "code",
   "execution_count": 6,
   "id": "b1d8ccb9-06c7-4975-96bb-73d5f28f04ea",
   "metadata": {},
   "outputs": [],
   "source": [
    "import numpy as np\n",
    "names = np.array([\"Bob\", \"Will\", \"Joe\", \"Bob\", \"Will\", \"Joe\", \"Joe\"])\n",
    "players=np.array([\"Bob\",\"Mary\",\"Jahn\",\"Will\"])"
   ]
  },
  {
   "cell_type": "code",
   "execution_count": 3,
   "id": "ac11cb83-5db9-47b3-b6c1-a8872c46c6c5",
   "metadata": {},
   "outputs": [
    {
     "data": {
      "text/plain": [
       "array(['Bob', 'Joe', 'Will'], dtype='<U4')"
      ]
     },
     "execution_count": 3,
     "metadata": {},
     "output_type": "execute_result"
    }
   ],
   "source": [
    "np.unique(names)"
   ]
  },
  {
   "cell_type": "code",
   "execution_count": 7,
   "id": "0341f995-c136-478f-875d-4171863ee26e",
   "metadata": {},
   "outputs": [
    {
     "data": {
      "text/plain": [
       "array(['Bob', 'Jahn', 'Mary', 'Will'], dtype='<U4')"
      ]
     },
     "execution_count": 7,
     "metadata": {},
     "output_type": "execute_result"
    }
   ],
   "source": [
    "np.unique(players)"
   ]
  },
  {
   "cell_type": "code",
   "execution_count": 8,
   "id": "52b219d8-5379-4c04-962b-f1c2ca806d29",
   "metadata": {},
   "outputs": [
    {
     "data": {
      "text/plain": [
       "array(['Bob', 'Will'], dtype='<U4')"
      ]
     },
     "execution_count": 8,
     "metadata": {},
     "output_type": "execute_result"
    }
   ],
   "source": [
    "np.intersect1d(names, players)"
   ]
  },
  {
   "cell_type": "code",
   "execution_count": 9,
   "id": "d05fae68-65ca-4a54-bbc5-d4c42c934d39",
   "metadata": {},
   "outputs": [
    {
     "data": {
      "text/plain": [
       "array(['Bob', 'Jahn', 'Joe', 'Mary', 'Will'], dtype='<U4')"
      ]
     },
     "execution_count": 9,
     "metadata": {},
     "output_type": "execute_result"
    }
   ],
   "source": [
    "np.union1d(names, players)\n",
    "#union1d(x, y) Compute the sorted union of elements"
   ]
  },
  {
   "cell_type": "code",
   "execution_count": 10,
   "id": "b1f3af35-acf3-45da-a22a-52390aeb01cf",
   "metadata": {},
   "outputs": [
    {
     "data": {
      "text/plain": [
       "array([ True,  True, False,  True,  True, False, False])"
      ]
     },
     "execution_count": 10,
     "metadata": {},
     "output_type": "execute_result"
    }
   ],
   "source": [
    "np.in1d(names, players)\n",
    "#in1d(x, y) Compute a Boolean array indicating whether each element of x is contained in y"
   ]
  },
  {
   "cell_type": "code",
   "execution_count": 11,
   "id": "12abdb0a-02e0-4e04-9560-e2376f8316c3",
   "metadata": {},
   "outputs": [
    {
     "data": {
      "text/plain": [
       "array(['Joe'], dtype='<U4')"
      ]
     },
     "execution_count": 11,
     "metadata": {},
     "output_type": "execute_result"
    }
   ],
   "source": [
    "np.setdiff1d(names, players)\n",
    "#setdiff1d(x, y) Set difference, elements in x that are not in y"
   ]
  },
  {
   "cell_type": "code",
   "execution_count": 13,
   "id": "68b35f1d-a6f7-4c45-81c3-861a61de915a",
   "metadata": {},
   "outputs": [
    {
     "data": {
      "text/plain": [
       "array(['Jahn', 'Joe', 'Mary'], dtype='<U4')"
      ]
     },
     "execution_count": 13,
     "metadata": {},
     "output_type": "execute_result"
    }
   ],
   "source": [
    "np.setxor1d(names, players)\n",
    "#setxor1d(x, y) Set symmetric differences; elements that are in either of the arrays, but not both"
   ]
  },
  {
   "cell_type": "code",
   "execution_count": null,
   "id": "5547ff0f-4524-4929-8a6c-db7dbe9ab1ab",
   "metadata": {},
   "outputs": [],
   "source": [
    "******** LINEAR ALGEBRA *********"
   ]
  },
  {
   "cell_type": "code",
   "execution_count": 14,
   "id": "b33cc98a-08e8-491f-8572-1b3ccdd16a5f",
   "metadata": {},
   "outputs": [
    {
     "data": {
      "text/plain": [
       "array([[ 28.,  64.],\n",
       "       [ 67., 181.]])"
      ]
     },
     "execution_count": 14,
     "metadata": {},
     "output_type": "execute_result"
    }
   ],
   "source": [
    "x = np.array([[1., 2., 3.], [4., 5., 6.]])\n",
    "y = np.array([[6., 23.], [-1, 7], [8, 9]])\n",
    "x.dot(y)"
   ]
  },
  {
   "cell_type": "code",
   "execution_count": 15,
   "id": "8f1540bf-e24b-47a8-8cab-282ea3090361",
   "metadata": {},
   "outputs": [
    {
     "data": {
      "text/plain": [
       "array([ 6., 15.])"
      ]
     },
     "execution_count": 15,
     "metadata": {},
     "output_type": "execute_result"
    }
   ],
   "source": [
    "x @ np.ones(3)"
   ]
  },
  {
   "cell_type": "code",
   "execution_count": 20,
   "id": "61c44f41-e4ec-4d8e-844d-278f8d2efe70",
   "metadata": {},
   "outputs": [],
   "source": [
    "x=np.array([[1, 2, 3],[4, 5, 6],[7, 8, 9,]])\n",
    "y=np.array([[11, 12, 13],[14, 15, 16],[17, 18, 19]])"
   ]
  },
  {
   "cell_type": "code",
   "execution_count": 25,
   "id": "9939844c-9566-45c1-813a-a9e111d908db",
   "metadata": {},
   "outputs": [
    {
     "data": {
      "text/plain": [
       "array([1, 5, 9])"
      ]
     },
     "execution_count": 25,
     "metadata": {},
     "output_type": "execute_result"
    }
   ],
   "source": [
    "np.diag(x)"
   ]
  },
  {
   "cell_type": "code",
   "execution_count": 23,
   "id": "7947d34a-f64c-4996-b008-2c6ba06e619c",
   "metadata": {},
   "outputs": [
    {
     "data": {
      "text/plain": [
       "array([[ 90,  96, 102],\n",
       "       [216, 231, 246],\n",
       "       [342, 366, 390]])"
      ]
     },
     "execution_count": 23,
     "metadata": {},
     "output_type": "execute_result"
    }
   ],
   "source": [
    "np.dot(x, y)"
   ]
  },
  {
   "cell_type": "code",
   "execution_count": 24,
   "id": "db456cf2-7826-47ae-9a8a-7cef9e431d2d",
   "metadata": {},
   "outputs": [
    {
     "data": {
      "text/plain": [
       "15"
      ]
     },
     "execution_count": 24,
     "metadata": {},
     "output_type": "execute_result"
    }
   ],
   "source": [
    "np.trace(x)"
   ]
  },
  {
   "cell_type": "code",
   "execution_count": null,
   "id": "b393983f-3ff9-419e-addf-770754bc79ba",
   "metadata": {},
   "outputs": [],
   "source": []
  }
 ],
 "metadata": {
  "kernelspec": {
   "display_name": "Python 3 (ipykernel)",
   "language": "python",
   "name": "python3"
  },
  "language_info": {
   "codemirror_mode": {
    "name": "ipython",
    "version": 3
   },
   "file_extension": ".py",
   "mimetype": "text/x-python",
   "name": "python",
   "nbconvert_exporter": "python",
   "pygments_lexer": "ipython3",
   "version": "3.11.7"
  }
 },
 "nbformat": 4,
 "nbformat_minor": 5
}
