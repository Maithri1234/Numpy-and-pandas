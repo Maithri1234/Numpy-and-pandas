{
 "cells": [
  {
   "cell_type": "code",
   "execution_count": 2,
   "id": "8cdbdf32-0075-4df2-a623-e6d83968ddca",
   "metadata": {},
   "outputs": [
    {
     "data": {
      "text/plain": [
       "array([1, 2, 3])"
      ]
     },
     "execution_count": 2,
     "metadata": {},
     "output_type": "execute_result"
    }
   ],
   "source": [
    "# A)WORKING WITH ARRAYS\n",
    "import numpy as np\n",
    "a=np.array([1,2,3])\n",
    "a"
   ]
  },
  {
   "cell_type": "code",
   "execution_count": 4,
   "id": "e38ef3d9-1319-41d1-a777-1e375b688748",
   "metadata": {},
   "outputs": [
    {
     "data": {
      "text/plain": [
       "array([ True,  True, False,  True])"
      ]
     },
     "execution_count": 4,
     "metadata": {},
     "output_type": "execute_result"
    }
   ],
   "source": [
    "b=[34,\"hi\",0,True]\n",
    "c=np.array(b, dtype=bool)\n",
    "c"
   ]
  },
  {
   "cell_type": "code",
   "execution_count": 6,
   "id": "0dc0b262-b418-4b96-ac73-892cc2d40516",
   "metadata": {},
   "outputs": [
    {
     "data": {
      "text/plain": [
       "array([3, 4, 5])"
      ]
     },
     "execution_count": 6,
     "metadata": {},
     "output_type": "execute_result"
    }
   ],
   "source": [
    "c=np.array([1,2,3,4,5])\n",
    "d=np.extract(c>2, c)\n",
    "d"
   ]
  },
  {
   "cell_type": "code",
   "execution_count": 8,
   "id": "f63fe813-bb59-44c3-9be4-5132776239da",
   "metadata": {},
   "outputs": [
    {
     "data": {
      "text/plain": [
       "array([ 1,  2,  3, 10, 10, 10])"
      ]
     },
     "execution_count": 8,
     "metadata": {},
     "output_type": "execute_result"
    }
   ],
   "source": [
    "c=np.array([1,2,3,4,5,6])\n",
    "d=np.where(c>3,10,c)\n",
    "d"
   ]
  },
  {
   "cell_type": "code",
   "execution_count": 9,
   "id": "e27dfc36-97b0-48d7-9251-e1a505312ec8",
   "metadata": {},
   "outputs": [
    {
     "name": "stdout",
     "output_type": "stream",
     "text": [
      "[1 2 3 4 5 6]\n",
      "[ 1  2  3 10 10 10]\n"
     ]
    }
   ],
   "source": [
    "c=np.array([1,2,3,4,5,6])\n",
    "d=np.where(c>3,10,c)\n",
    "print(c)\n",
    "print(d)"
   ]
  },
  {
   "cell_type": "code",
   "execution_count": 12,
   "id": "2a2e6ae7-d63e-43d5-8934-bd9dcab4e399",
   "metadata": {},
   "outputs": [
    {
     "name": "stdout",
     "output_type": "stream",
     "text": [
      "[ 0  1  2  3  4  5  6  7  8  9 10 11 12 13 14 15 16 17 18 19 20 21 22 23\n",
      " 24]\n",
      "[[ 0  1  2  3  4]\n",
      " [ 5  6  7  8  9]\n",
      " [10 11 12 13 14]\n",
      " [15 16 17 18 19]\n",
      " [20 21 22 23 24]]\n"
     ]
    }
   ],
   "source": [
    "a=np.arange(25)\n",
    "b=a.reshape(5,5)\n",
    "print(a)\n",
    "print(b)"
   ]
  },
  {
   "cell_type": "code",
   "execution_count": 21,
   "id": "50f162c4-5174-42ed-8d3c-e6625151ed69",
   "metadata": {},
   "outputs": [
    {
     "name": "stdout",
     "output_type": "stream",
     "text": [
      "[ 1  2  3  4  5  6  7  8  9 10]\n",
      "(array([4, 5, 6, 7, 8], dtype=int64),)\n"
     ]
    }
   ],
   "source": [
    "a=np.array([1,2,3,4,5,6,7,8,9,10])\n",
    "b=np.where((a>=5)&(a<=9))\n",
    "print(a)\n",
    "print(b)"
   ]
  },
  {
   "cell_type": "code",
   "execution_count": 22,
   "id": "39737a81-95bd-4280-9ade-a146ef352888",
   "metadata": {},
   "outputs": [
    {
     "data": {
      "text/plain": [
       "[(3, 'c'), (1, 'b'), (2, 'b'), (1, 'a'), (2, 'a'), (3, 'a')]"
      ]
     },
     "execution_count": 22,
     "metadata": {},
     "output_type": "execute_result"
    }
   ],
   "source": [
    "#B]  Write a program to sort a list of tuples based on multiple keys using sorted. The list should be sorted first\n",
    "# by the second element of each tuple in descending order,\n",
    "list=[(3,'c'),(1,'a'),(2,'b'),(2,'a'),(1,'b'),(3,'a')]\n",
    "sorted_list=sorted(list, key=lambda x:(-ord(x[1]),x[0]))\n",
    "sorted_list"
   ]
  },
  {
   "cell_type": "code",
   "execution_count": 26,
   "id": "3ef6c2fe-cf9c-49d4-95de-523d8e0da931",
   "metadata": {},
   "outputs": [
    {
     "data": {
      "text/plain": [
       "array([[ 1,  2,  3],\n",
       "       [ 4,  5,  6],\n",
       "       [ 6,  7,  8],\n",
       "       [ 9, 10,  5]])"
      ]
     },
     "execution_count": 26,
     "metadata": {},
     "output_type": "execute_result"
    }
   ],
   "source": [
    "# B)MULTIPLE ARRAYS\n",
    "import numpy as np\n",
    "a=np.array([[1,2,3],[4,5,6]])\n",
    "b=np.array([[6,7,8],[9,10,5]])\n",
    "c=np.vstack((a,b))\n",
    "c"
   ]
  },
  {
   "cell_type": "code",
   "execution_count": 27,
   "id": "c345c6dc-6676-451b-bca4-e2f8c54b96b8",
   "metadata": {},
   "outputs": [
    {
     "data": {
      "text/plain": [
       "array([[ 1,  2,  3,  6,  7,  8],\n",
       "       [ 4,  5,  6,  9, 10,  5]])"
      ]
     },
     "execution_count": 27,
     "metadata": {},
     "output_type": "execute_result"
    }
   ],
   "source": [
    "a=np.array([[1,2,3],[4,5,6]])\n",
    "b=np.array([[6,7,8],[9,10,5]])\n",
    "c=np.hstack((a,b))\n",
    "c"
   ]
  },
  {
   "cell_type": "code",
   "execution_count": 30,
   "id": "3fedbe73-7077-4253-a424-3d1dddec5843",
   "metadata": {},
   "outputs": [
    {
     "data": {
      "text/plain": [
       "array([1, 2, 3])"
      ]
     },
     "execution_count": 30,
     "metadata": {},
     "output_type": "execute_result"
    }
   ],
   "source": [
    "a=np.array([[1,2,3],[4,5,6]])\n",
    "b=np.array([[1,2,3],[7,8,9]])\n",
    "c=np.intersect1d(a,b)\n",
    "c\n"
   ]
  },
  {
   "cell_type": "code",
   "execution_count": 31,
   "id": "40451f90-154a-4b29-914a-f6b5085c6076",
   "metadata": {},
   "outputs": [
    {
     "data": {
      "text/plain": [
       "array([4, 5, 6])"
      ]
     },
     "execution_count": 31,
     "metadata": {},
     "output_type": "execute_result"
    }
   ],
   "source": [
    "a=np.array([[1,2,3],[4,5,6]])\n",
    "b=np.array([[1,2,3],[7,8,9]])\n",
    "c=np.setdiff1d(a,b)\n",
    "c"
   ]
  },
  {
   "cell_type": "code",
   "execution_count": 37,
   "id": "4df8cbad-f4b3-4a6a-8e6e-adfacdd0f973",
   "metadata": {},
   "outputs": [
    {
     "data": {
      "text/plain": [
       "(array([3, 4, 5], dtype=int64),)"
      ]
     },
     "execution_count": 37,
     "metadata": {},
     "output_type": "execute_result"
    }
   ],
   "source": [
    "a=np.array([4,5,6,1,2,3,])\n",
    "b=np.array([7,8,9,1,2,3,])\n",
    "c=np.where(a==b)\n",
    "c"
   ]
  },
  {
   "cell_type": "code",
   "execution_count": 42,
   "id": "2ded4331-f3fa-4ba8-ba2f-78379aca025f",
   "metadata": {},
   "outputs": [
    {
     "name": "stdout",
     "output_type": "stream",
     "text": [
      "reshape array:\n",
      "[[[ 0  1  2]\n",
      "  [ 3  4  5]]\n",
      "\n",
      " [[ 6  7  8]\n",
      "  [ 9 10 11]]\n",
      "\n",
      " [[12 13 14]\n",
      "  [15 16 17]]]\n",
      "first element of the first row:\n",
      "0\n"
     ]
    }
   ],
   "source": [
    "# B] How do you access the first element of the first row of a 3D NumPy arrayimport numpy as np\n",
    "a=np.arange(18)\n",
    "a\n",
    "b=a.reshape(3,2,3)\n",
    "print(\"reshape array:\")\n",
    "print(b)\n",
    "c=b[0,0,0]\n",
    "print(\"first element of the first row:\")\n",
    "print(c)"
   ]
  },
  {
   "cell_type": "code",
   "execution_count": 7,
   "id": "6cf7d08f-741e-43d9-a272-3b79cbec8e06",
   "metadata": {},
   "outputs": [
    {
     "name": "stdin",
     "output_type": "stream",
     "text": [
      "enter an interger (or 'stop' to finish): 2\n",
      "enter an interger (or 'stop' to finish): 5\n",
      "enter an interger (or 'stop' to finish): stop\n"
     ]
    },
    {
     "name": "stdout",
     "output_type": "stream",
     "text": [
      "the sum is: 7\n"
     ]
    }
   ],
   "source": [
    "# C] Write a program that reads a list of integers from the user and calculates their sum.\n",
    "def calculate_sum():\n",
    "    total = 0\n",
    "    while True:\n",
    "        user_input = input(\"enter an interger (or 'stop' to finish):\")\n",
    "        if user_input.lower()=='stop':\n",
    "            break\n",
    "        try:\n",
    "            total+=int(user_input)\n",
    "        except valueError:\n",
    "            print(\"invalid error\")\n",
    "    return total\n",
    "print(\"the sum is:\", calculate_sum())"
   ]
  },
  {
   "cell_type": "code",
   "execution_count": 8,
   "id": "ba6b15a3-99a8-49c9-a08b-0441c72ad369",
   "metadata": {},
   "outputs": [
    {
     "data": {
      "text/plain": [
       "array([[1, 2, 3, 4, 5, 6]])"
      ]
     },
     "execution_count": 8,
     "metadata": {},
     "output_type": "execute_result"
    }
   ],
   "source": [
    "# C] MULTI-DIMENSIONAL ARRAYS\n",
    "import numpy as np\n",
    "a=np.array([[1,2,3],[4,5,6]])\n",
    "b=np.reshape(a,(1, -1))\n",
    "b"
   ]
  },
  {
   "cell_type": "code",
   "execution_count": 13,
   "id": "edb1a179-f724-407d-900c-349dc641a7a6",
   "metadata": {},
   "outputs": [
    {
     "name": "stdout",
     "output_type": "stream",
     "text": [
      "array\n",
      "[[0 1 2]\n",
      " [3 4 5]\n",
      " [6 7 8]]\n",
      "array after swap the columns:\n",
      "[[0 2 1]\n",
      " [3 5 4]\n",
      " [6 8 7]]\n"
     ]
    }
   ],
   "source": [
    "import numpy as np\n",
    "a=np.arange(9).reshape(3,3)\n",
    "print(\"array\")\n",
    "print(a)\n",
    "col1=1\n",
    "col2=2\n",
    "a[:, [col1, col2]]=a[:, [col2, col1]]\n",
    "print(\"array after swap the columns:\")\n",
    "print(a)"
   ]
  },
  {
   "cell_type": "code",
   "execution_count": 15,
   "id": "e8cd533e-4358-4a6c-84c8-aac68a0d2ec8",
   "metadata": {},
   "outputs": [
    {
     "data": {
      "text/plain": [
       "['banana', 'orange', 'custord']"
      ]
     },
     "execution_count": 15,
     "metadata": {},
     "output_type": "execute_result"
    }
   ],
   "source": [
    "# B) Write a program that uses a lambda function to filter a list of strings to contain only those that have length greater than 5\n",
    "String = [\"apple\",\"banana\",\"orange\",\"mango\",\"custord\"]\n",
    "filtered_strings = list(filter(lambda s: len(s)>5, String))\n",
    "filtered_strings"
   ]
  },
  {
   "cell_type": "code",
   "execution_count": 18,
   "id": "ff6224ed-2592-42d7-a59b-7c7853f2dac0",
   "metadata": {},
   "outputs": [
    {
     "name": "stdout",
     "output_type": "stream",
     "text": [
      "mean: 5.0\n",
      "median: 5.0\n",
      "standard deviation: 2.581988897471611\n"
     ]
    }
   ],
   "source": [
    "# 4] STATISTICAL ANALYSIS\n",
    "import numpy as np\n",
    "a=np.array([1,2,3,4,5,6,7,8,9])\n",
    "mean=np.mean(a)\n",
    "median=np.median(a)\n",
    "std=np.std(a)\n",
    "print(\"mean:\",mean)\n",
    "print(\"median:\",median)\n",
    "print(\"standard deviation:\", std)"
   ]
  },
  {
   "cell_type": "code",
   "execution_count": 21,
   "id": "41eb5c28-5ed2-4693-862b-b15d3baf428a",
   "metadata": {},
   "outputs": [
    {
     "data": {
      "text/plain": [
       "array([25., 50., 75.])"
      ]
     },
     "execution_count": 21,
     "metadata": {},
     "output_type": "execute_result"
    }
   ],
   "source": [
    "a=np.arange(101)\n",
    "b=np.percentile(a, q=[25,50, 75])\n",
    "b"
   ]
  },
  {
   "cell_type": "code",
   "execution_count": 25,
   "id": "75959c66-99f4-46be-a120-4ef28583fcdc",
   "metadata": {},
   "outputs": [
    {
     "data": {
      "text/plain": [
       "8.366600265340756"
      ]
     },
     "execution_count": 25,
     "metadata": {},
     "output_type": "execute_result"
    }
   ],
   "source": [
    "a=np.array([1,2,3,4,5,6])\n",
    "b=np.array([6,5,4,3,2,1])\n",
    "c=np.linalg.norm((a-b))\n",
    "c"
   ]
  },
  {
   "cell_type": "code",
   "execution_count": 31,
   "id": "d03f1615-8efd-4abd-9e45-edf54d0ee5f4",
   "metadata": {},
   "outputs": [
    {
     "data": {
      "text/plain": [
       "array([[1.       , 0.7088724],\n",
       "       [0.7088724, 1.       ]])"
      ]
     },
     "execution_count": 31,
     "metadata": {},
     "output_type": "execute_result"
    }
   ],
   "source": [
    "a=np.random.randint(0,100,500)\n",
    "b=a+np.random.randint(0,100,500)\n",
    "c=np.corrcoef(a,b)\n",
    "c"
   ]
  },
  {
   "cell_type": "code",
   "execution_count": 32,
   "id": "53d8e41c-f083-4f83-a8ec-52ad56cf2e1c",
   "metadata": {},
   "outputs": [
    {
     "name": "stdout",
     "output_type": "stream",
     "text": [
      "['b' 'd' 'c']\n"
     ]
    }
   ],
   "source": [
    "pop=np.array(['a','b','c','d','e'])\n",
    "prp=np.array([0.2,0.1,0.3,0.4,0.5])\n",
    "prp=prp/prp.sum()\n",
    "sample=np.random.choice(pop, size=3, p=prp)\n",
    "print(sample)"
   ]
  },
  {
   "cell_type": "code",
   "execution_count": 33,
   "id": "83815f87-cf5b-484d-872e-7c83fbd34631",
   "metadata": {},
   "outputs": [
    {
     "name": "stdout",
     "output_type": "stream",
     "text": [
      "[4 4 8 7 7 4 4 9 6 4]\n",
      "[5.33333333 6.33333333 7.33333333 6.         5.         5.66666667\n",
      " 6.33333333 6.33333333]\n"
     ]
    }
   ],
   "source": [
    "a=np.random.randint(10, size=10)\n",
    "movavg=np.convolve(a, np.ones(3)/3, mode='valid')\n",
    "print(a)\n",
    "print(movavg)"
   ]
  },
  {
   "cell_type": "code",
   "execution_count": 35,
   "id": "feb6ce25-e39f-4d7e-9f12-5f0ff35bbaa9",
   "metadata": {},
   "outputs": [
    {
     "name": "stdout",
     "output_type": "stream",
     "text": [
      "5\n",
      "8\n"
     ]
    }
   ],
   "source": [
    "# B]How do you access the elements of the second column of the second row and the third row of a 2D NumPy array? \n",
    "a=np.array([[1,2,3],\n",
    "            [4,5,6],\n",
    "            [7,8,9]])\n",
    "element_second_row_second_column=a[1,1]\n",
    "element_third_row_second_column=a[2,1]\n",
    "print(element_second_row_second_column)\n",
    "print(element_third_row_second_column)"
   ]
  },
  {
   "cell_type": "code",
   "execution_count": 3,
   "id": "465adeec-aade-4036-8230-63c6352ffb9b",
   "metadata": {},
   "outputs": [
    {
     "name": "stdout",
     "output_type": "stream",
     "text": [
      "Cleaned text: This     sample text   some common stop words   as  ,  ,    .\n"
     ]
    }
   ],
   "source": [
    "# C] Write a program to remove all stop words from a string using regular expressions. \n",
    "import re\n",
    "def remove_stop_words(text, stop_words):\n",
    "    pattern = r'\\b(?:{})\\b'.format('|'.join(stop_words))\n",
    "    cleaned_text=re.sub(pattern, ' ', text, flags=re.IGNORECASE)\n",
    "    return cleaned_text.strip()\n",
    "text=\"This is a sample text with some common stop words such as the, is, and with.\"\n",
    "stop_words=[\"the\",\"is\",\"and\",\"with\",\"a\",\"such\"]\n",
    "cleaned_text=remove_stop_words(text, stop_words)\n",
    "print(\"Cleaned text:\",cleaned_text)"
   ]
  },
  {
   "cell_type": "code",
   "execution_count": 4,
   "id": "8754c691-a699-4571-aa14-4e718a46ef87",
   "metadata": {},
   "outputs": [
    {
     "data": {
      "text/plain": [
       "array([[1, 2]], dtype=int64)"
      ]
     },
     "execution_count": 4,
     "metadata": {},
     "output_type": "execute_result"
    }
   ],
   "source": [
    "# 5] DATA CLEANING\n",
    "import numpy as np\n",
    "a=np.array([[1,2,3],[4,5,np.nan]])\n",
    "np.argwhere(np.isnan(a))"
   ]
  },
  {
   "cell_type": "code",
   "execution_count": 7,
   "id": "e382d196-8a1f-42fc-b107-ea1de60df63b",
   "metadata": {},
   "outputs": [
    {
     "data": {
      "text/plain": [
       "array([[1., 2., 3.]])"
      ]
     },
     "execution_count": 7,
     "metadata": {},
     "output_type": "execute_result"
    }
   ],
   "source": [
    "a=np.array([[1,2,3],[4,5,np.nan]])\n",
    "a[~np.isnan(a).any(axis=1),:]"
   ]
  },
  {
   "cell_type": "code",
   "execution_count": 9,
   "id": "fc70a962-23cb-4abf-b982-2d6785411cfb",
   "metadata": {},
   "outputs": [
    {
     "data": {
      "text/plain": [
       "array([[1., 2., 3.],\n",
       "       [4., 5., 0.]])"
      ]
     },
     "execution_count": 9,
     "metadata": {},
     "output_type": "execute_result"
    }
   ],
   "source": [
    "a=np.array([[1,2,3],[4,5,np.nan]])\n",
    "a[np.isnan(a)]=0\n",
    "a"
   ]
  },
  {
   "cell_type": "code",
   "execution_count": 10,
   "id": "c5c6f871-a783-4541-9dbb-23c0bdb8a390",
   "metadata": {},
   "outputs": [
    {
     "data": {
      "text/plain": [
       "array([1., 2., 3., 4., 5.])"
      ]
     },
     "execution_count": 10,
     "metadata": {},
     "output_type": "execute_result"
    }
   ],
   "source": [
    "a=np.array([[1,2,3],[4,5,np.nan]])\n",
    "a[~np.isnan(a)]"
   ]
  },
  {
   "cell_type": "code",
   "execution_count": 77,
   "id": "6b50ae05-b26b-4311-a872-27dcdba7449b",
   "metadata": {},
   "outputs": [
    {
     "name": "stdout",
     "output_type": "stream",
     "text": [
      "original array\n",
      "[[[ 0  1  2]\n",
      "  [ 3  4  5]\n",
      "  [ 6  7  8]]\n",
      "\n",
      " [[ 9 10 11]\n",
      "  [12 13 14]\n",
      "  [15 16 17]]\n",
      "\n",
      " [[18 19 20]\n",
      "  [21 22 23]\n",
      "  [24 25 26]]]\n",
      "last row of the last block:\n",
      "26\n"
     ]
    }
   ],
   "source": [
    "# C]How do you access the last element of the last row of the last block of a 3D NumPy array?\n",
    "import numpy as np\n",
    "array = np.arange(27).reshape(3, 3, 3)\n",
    "last_row=array[-1, -1, -1]\n",
    "print(\"original array\")\n",
    "print(array)\n",
    "print(\"last row of the last block:\")\n",
    "print(last_row)"
   ]
  },
  {
   "cell_type": "code",
   "execution_count": 21,
   "id": "8b67f239-8acf-46de-98e8-109e7e497256",
   "metadata": {},
   "outputs": [
    {
     "name": "stdout",
     "output_type": "stream",
     "text": [
      "original array\n",
      "[1 2 3 4 5]\n",
      "\n",
      "Normalized array (between 0 and 1)\n",
      "[0.   0.25 0.5  0.75 1.  ]\n"
     ]
    }
   ],
   "source": [
    "# 6] DATA TRANSFORMATION\n",
    "import numpy as np\n",
    "a=np.array([1,2,3,4,5])\n",
    "arr_normalized=(a-np.min(a))/(np.max(a)-np.min(a))\n",
    "print(\"original array\")\n",
    "print(a)\n",
    "print(\"\\nNormalized array (between 0 and 1)\")\n",
    "print(arr_normalized)"
   ]
  },
  {
   "cell_type": "code",
   "execution_count": 17,
   "id": "bcf262be-afd8-425b-a818-adda943cd1a5",
   "metadata": {},
   "outputs": [
    {
     "name": "stdout",
     "output_type": "stream",
     "text": [
      "[[1 2 3]\n",
      " [4 5 6]\n",
      " [7 8 9]]\n",
      "[0.33333333 0.66666667 0.77777778]\n"
     ]
    }
   ],
   "source": [
    "import numpy as np\n",
    "a = np.array([[1,2,3],\n",
    "              [4,5,6],\n",
    "              [7,8,9]])\n",
    "min_max = np.min(a, axis=1)/np.max(a, axis=1)\n",
    "print(a)\n",
    "print(min_max)"
   ]
  },
  {
   "cell_type": "code",
   "execution_count": 18,
   "id": "3fc3e428-d132-4010-8978-5a2d4a12b7fd",
   "metadata": {},
   "outputs": [
    {
     "name": "stdout",
     "output_type": "stream",
     "text": [
      "{2: 4, 4: 16, 6: 36, 8: 64, 10: 100, 12: 144, 14: 196, 16: 256, 18: 324, 20: 400}\n"
     ]
    }
   ],
   "source": [
    "#C] Write a dictionary comprehension that generates a dictionary where the keys are the first 10 even numbers   \n",
    "even_numbers = range(2,21,2)\n",
    "even_squares_dict = {num: num ** 2 for num in even_numbers}\n",
    "print(even_squares_dict)"
   ]
  },
  {
   "cell_type": "code",
   "execution_count": 5,
   "id": "ce8bcd5e-f004-45bb-b82b-998c8d54bbe1",
   "metadata": {},
   "outputs": [
    {
     "ename": "SyntaxError",
     "evalue": "invalid syntax (2664942803.py, line 2)",
     "output_type": "error",
     "traceback": [
      "\u001b[1;36m  Cell \u001b[1;32mIn[5], line 2\u001b[1;36m\u001b[0m\n\u001b[1;33m    pip install pandas\u001b[0m\n\u001b[1;37m        ^\u001b[0m\n\u001b[1;31mSyntaxError\u001b[0m\u001b[1;31m:\u001b[0m invalid syntax\n"
     ]
    }
   ],
   "source": [
    "# 7] PANDAS BASICS\n",
    "pip install pandas"
   ]
  },
  {
   "cell_type": "code",
   "execution_count": 21,
   "id": "9f557649-3021-4ba0-95c6-cc595096bd67",
   "metadata": {},
   "outputs": [
    {
     "name": "stdout",
     "output_type": "stream",
     "text": [
      "Name: pandas\n",
      "Version: 2.1.4\n",
      "Summary: Powerful data structures for data analysis, time series, and statistics\n",
      "Home-page: https://pandas.pydata.org\n",
      "Author: \n",
      "Author-email: The Pandas Development Team <pandas-dev@python.org>\n",
      "License: BSD 3-Clause License\n",
      "\n",
      "Copyright (c) 2008-2011, AQR Capital Management, LLC, Lambda Foundry, Inc. and PyData Development Team\n",
      "All rights reserved.\n",
      "\n",
      "Copyright (c) 2011-2023, Open source contributors.\n",
      "\n",
      "Redistribution and use in source and binary forms, with or without\n",
      "modification, are permitted provided that the following conditions are met:\n",
      "\n",
      "* Redistributions of source code must retain the above copyright notice, this\n",
      "  list of conditions and the following disclaimer.\n",
      "\n",
      "* Redistributions in binary form must reproduce the above copyright notice,\n",
      "  this list of conditions and the following disclaimer in the documentation\n",
      "  and/or other materials provided with the distribution.\n",
      "\n",
      "* Neither the name of the copyright holder nor the names of its\n",
      "  contributors may be used to endorse or promote products derived from\n",
      "  this software without specific prior written permission.\n",
      "\n",
      "THIS SOFTWARE IS PROVIDED BY THE COPYRIGHT HOLDERS AND CONTRIBUTORS \"AS IS\"\n",
      "AND ANY EXPRESS OR IMPLIED WARRANTIES, INCLUDING, BUT NOT LIMITED TO, THE\n",
      "IMPLIED WARRANTIES OF MERCHANTABILITY AND FITNESS FOR A PARTICULAR PURPOSE ARE\n",
      "DISCLAIMED. IN NO EVENT SHALL THE COPYRIGHT HOLDER OR CONTRIBUTORS BE LIABLE\n",
      "FOR ANY DIRECT, INDIRECT, INCIDENTAL, SPECIAL, EXEMPLARY, OR CONSEQUENTIAL\n",
      "DAMAGES (INCLUDING, BUT NOT LIMITED TO, PROCUREMENT OF SUBSTITUTE GOODS OR\n",
      "SERVICES; LOSS OF USE, DATA, OR PROFITS; OR BUSINESS INTERRUPTION) HOWEVER\n",
      "CAUSED AND ON ANY THEORY OF LIABILITY, WHETHER IN CONTRACT, STRICT LIABILITY,\n",
      "OR TORT (INCLUDING NEGLIGENCE OR OTHERWISE) ARISING IN ANY WAY OUT OF THE USE\n",
      "OF THIS SOFTWARE, EVEN IF ADVISED OF THE POSSIBILITY OF SUCH DAMAGE.\n",
      "Location: C:\\Users\\DELL\\anaconda3\\Lib\\site-packages\n",
      "Requires: numpy, python-dateutil, pytz, tzdata\n",
      "Required-by: altair, bokeh, datashader, holoviews, hvplot, panel, seaborn, statsmodels, streamlit, xarray\n",
      "Note: you may need to restart the kernel to use updated packages.\n"
     ]
    }
   ],
   "source": [
    "pip show pandas"
   ]
  },
  {
   "cell_type": "code",
   "execution_count": 19,
   "id": "d20e09fd-849d-4e79-a881-0158ce1af992",
   "metadata": {},
   "outputs": [
    {
     "ename": "AttributeError",
     "evalue": "module 'pandas' has no attribute '_version_'",
     "output_type": "error",
     "traceback": [
      "\u001b[1;31m---------------------------------------------------------------------------\u001b[0m",
      "\u001b[1;31mAttributeError\u001b[0m                            Traceback (most recent call last)",
      "Cell \u001b[1;32mIn[19], line 2\u001b[0m\n\u001b[0;32m      1\u001b[0m \u001b[38;5;28;01mimport\u001b[39;00m \u001b[38;5;21;01mpandas\u001b[39;00m \u001b[38;5;28;01mas\u001b[39;00m \u001b[38;5;21;01mpd\u001b[39;00m\n\u001b[1;32m----> 2\u001b[0m \u001b[38;5;28mprint\u001b[39m(pd\u001b[38;5;241m.\u001b[39m_version_)\n",
      "\u001b[1;31mAttributeError\u001b[0m: module 'pandas' has no attribute '_version_'"
     ]
    }
   ],
   "source": [
    "import pandas as pd\n",
    "print(pd._version_)\n"
   ]
  },
  {
   "cell_type": "code",
   "execution_count": 3,
   "id": "254767fb-79ea-4cfe-85ff-83963ec1c220",
   "metadata": {},
   "outputs": [
    {
     "name": "stdout",
     "output_type": "stream",
     "text": [
      "Series from list: [1, 2, 3, 4, 5, 6]\n",
      "Series from array: [1 2 3 4 5 6]\n",
      "Series from dict: {'a': 10, 'b': 20, 'c': 30}\n"
     ]
    }
   ],
   "source": [
    "import pandas as pd\n",
    "import numpy as np\n",
    "list=[1,2,3,4,5,6]\n",
    "series_from_list=pd.Series(list)\n",
    "array=np.array([1,2,3,4,5,6])\n",
    "series_from_array=pd.Series(array)\n",
    "dict={'a':10,'b':20,'c':30}\n",
    "series_from_dict=pd.Series(dict)\n",
    "print(\"Series from list:\",list)\n",
    "print(\"Series from array:\",array)\n",
    "print(\"Series from dict:\",dict)\n"
   ]
  },
  {
   "cell_type": "code",
   "execution_count": 12,
   "id": "8ad4751e-e357-4a30-93dc-013d7cf664d3",
   "metadata": {},
   "outputs": [
    {
     "name": "stdout",
     "output_type": "stream",
     "text": [
      "DataFrame with series index as a column\n",
      "  index  values\n",
      "0     a      10\n",
      "1     b      20\n",
      "2     c      30\n"
     ]
    }
   ],
   "source": [
    "import pandas as pd\n",
    "a=pd.Series([10,20,30],index=['a','b','c'],name='values')\n",
    "b=a.reset_index()\n",
    "b.columns=['index','values']\n",
    "print(\"DataFrame with series index as a column\")\n",
    "print(b)"
   ]
  },
  {
   "cell_type": "code",
   "execution_count": 78,
   "id": "74b763c9-8c16-4af1-9ff4-2ecbf6b467d0",
   "metadata": {},
   "outputs": [
    {
     "data": {
      "text/html": [
       "<div>\n",
       "<style scoped>\n",
       "    .dataframe tbody tr th:only-of-type {\n",
       "        vertical-align: middle;\n",
       "    }\n",
       "\n",
       "    .dataframe tbody tr th {\n",
       "        vertical-align: top;\n",
       "    }\n",
       "\n",
       "    .dataframe thead th {\n",
       "        text-align: right;\n",
       "    }\n",
       "</style>\n",
       "<table border=\"1\" class=\"dataframe\">\n",
       "  <thead>\n",
       "    <tr style=\"text-align: right;\">\n",
       "      <th></th>\n",
       "      <th>Fruits</th>\n",
       "      <th>Colours</th>\n",
       "      <th>Numbers</th>\n",
       "    </tr>\n",
       "  </thead>\n",
       "  <tbody>\n",
       "    <tr>\n",
       "      <th>0</th>\n",
       "      <td>apple</td>\n",
       "      <td>red</td>\n",
       "      <td>one</td>\n",
       "    </tr>\n",
       "    <tr>\n",
       "      <th>1</th>\n",
       "      <td>banana</td>\n",
       "      <td>yellow</td>\n",
       "      <td>two</td>\n",
       "    </tr>\n",
       "    <tr>\n",
       "      <th>2</th>\n",
       "      <td>mango</td>\n",
       "      <td>green</td>\n",
       "      <td>three</td>\n",
       "    </tr>\n",
       "    <tr>\n",
       "      <th>3</th>\n",
       "      <td>kiwi</td>\n",
       "      <td>blue</td>\n",
       "      <td>four</td>\n",
       "    </tr>\n",
       "    <tr>\n",
       "      <th>4</th>\n",
       "      <td>orange</td>\n",
       "      <td>pink</td>\n",
       "      <td>five</td>\n",
       "    </tr>\n",
       "  </tbody>\n",
       "</table>\n",
       "</div>"
      ],
      "text/plain": [
       "   Fruits Colours Numbers\n",
       "0   apple     red     one\n",
       "1  banana  yellow     two\n",
       "2   mango   green   three\n",
       "3    kiwi    blue    four\n",
       "4  orange    pink    five"
      ]
     },
     "execution_count": 78,
     "metadata": {},
     "output_type": "execute_result"
    }
   ],
   "source": [
    "import pandas as pd\n",
    "x=pd.Series([\"apple\",\"banana\",\"mango\",\"kiwi\",\"orange\"],name='Fruits')\n",
    "y=pd.Series([\"red\",\"yellow\",\"green\",\"blue\",\"pink\"],name='Colours')\n",
    "z=pd.Series([\"one\",\"two\",\"three\",\"four\",\"five\"],name='Numbers')\n",
    "df=pd.concat([x,y,z],axis=1)\n",
    "df"
   ]
  },
  {
   "cell_type": "code",
   "execution_count": 18,
   "id": "a4d8beef-02d3-44fb-9205-49c3ad9d3bbe",
   "metadata": {},
   "outputs": [
    {
     "name": "stdout",
     "output_type": "stream",
     "text": [
      "Sorted names: ('Ali', 'Bob', 'Buddy', 'Charlie', 'Dev', 'Eve')\n"
     ]
    }
   ],
   "source": [
    "# B] Write a Python program to create a tuple of names and sort them in alphabetical order. \n",
    "names = [\"Bob\",\"Charlie\",\"Ali\",\"Dev\",\"Eve\",\"Buddy\"]\n",
    "sorted_names = tuple(sorted(names))\n",
    "print(\"Sorted names:\", sorted_names)"
   ]
  },
  {
   "cell_type": "code",
   "execution_count": 22,
   "id": "036f6f06-5305-4cf0-8faf-6900ce83964e",
   "metadata": {},
   "outputs": [
    {
     "name": "stdout",
     "output_type": "stream",
     "text": [
      "{'a': [1, 4], 'b': 2, 'c': [3, 5]}\n"
     ]
    }
   ],
   "source": [
    "# C]Write a program to create a dictionary from two lists using zip, where the first list contains keys and the second list contains values\n",
    "keys = ['a','b','c','a','c']\n",
    "values = [1,2,3,4,5]\n",
    "combined_dict = {}\n",
    "for key, value in zip(keys, values):\n",
    "    if key in combined_dict:\n",
    "        combined_dict[key].append(value)\n",
    "    else:\n",
    "        combined_dict[key]=[value]\n",
    "combined_dict={key: value[0] if len(value)==1 else value for key, value in combined_dict.items()}\n",
    "print(combined_dict)\n",
    "        "
   ]
  },
  {
   "cell_type": "code",
   "execution_count": 28,
   "id": "6d9011fd-816c-46d0-a55e-55703fa0a9f1",
   "metadata": {},
   "outputs": [
    {
     "name": "stdout",
     "output_type": "stream",
     "text": [
      "minimum: 1\n",
      "maximum: 9\n",
      "Medain: 5.0\n",
      "percentile_25: 3.0\n",
      "percentile_75: 7.0\n"
     ]
    }
   ],
   "source": [
    "# 8] STATISTICAL ANALYSIS IN PANDAS\n",
    "import pandas as pd\n",
    "import numpy as np\n",
    "a=pd.Series([1,2,3,4,5,6,7,8,9])\n",
    "min=np.min(a)\n",
    "max=np.max(a)\n",
    "median=np.median(a)\n",
    "percentile_25=np.percentile(a, 25)\n",
    "percentile_75=np.percentile(a, 75)\n",
    "print(\"minimum:\",min)\n",
    "print(\"maximum:\",max)\n",
    "print(\"Medain:\", median)\n",
    "print(\"percentile_25:\",percentile_25)\n",
    "print(\"percentile_75:\",percentile_75)"
   ]
  },
  {
   "cell_type": "code",
   "execution_count": 29,
   "id": "ede2c9bb-8379-411b-a8fd-f8669c9e82de",
   "metadata": {},
   "outputs": [
    {
     "name": "stdout",
     "output_type": "stream",
     "text": [
      "Frequency counts by unique items:\n",
      "apple     3\n",
      "banana    2\n",
      "kiwi      2\n",
      "mango     1\n",
      "orange    1\n",
      "Name: count, dtype: int64\n"
     ]
    }
   ],
   "source": [
    "data=pd.Series([\"apple\",\"banana\",\"apple\",\"mango\",\"banana\",\"orange\",\"kiwi\",\"apple\",\"kiwi\"])\n",
    "freq_counts=data.value_counts()\n",
    "print(\"Frequency counts by unique items:\")\n",
    "print(freq_counts)\n",
    "                "
   ]
  },
  {
   "cell_type": "code",
   "execution_count": 31,
   "id": "bf4800bc-8aec-441c-8b54-971cef13e0b5",
   "metadata": {},
   "outputs": [
    {
     "data": {
      "text/html": [
       "<div>\n",
       "<style scoped>\n",
       "    .dataframe tbody tr th:only-of-type {\n",
       "        vertical-align: middle;\n",
       "    }\n",
       "\n",
       "    .dataframe tbody tr th {\n",
       "        vertical-align: top;\n",
       "    }\n",
       "\n",
       "    .dataframe thead th {\n",
       "        text-align: right;\n",
       "    }\n",
       "</style>\n",
       "<table border=\"1\" class=\"dataframe\">\n",
       "  <thead>\n",
       "    <tr style=\"text-align: right;\">\n",
       "      <th></th>\n",
       "      <th>age</th>\n",
       "      <th>age-group</th>\n",
       "    </tr>\n",
       "  </thead>\n",
       "  <tbody>\n",
       "    <tr>\n",
       "      <th>0</th>\n",
       "      <td>36</td>\n",
       "      <td>mid-adult</td>\n",
       "    </tr>\n",
       "    <tr>\n",
       "      <th>1</th>\n",
       "      <td>56</td>\n",
       "      <td>old</td>\n",
       "    </tr>\n",
       "    <tr>\n",
       "      <th>2</th>\n",
       "      <td>59</td>\n",
       "      <td>old</td>\n",
       "    </tr>\n",
       "    <tr>\n",
       "      <th>3</th>\n",
       "      <td>78</td>\n",
       "      <td>senior-citizen</td>\n",
       "    </tr>\n",
       "    <tr>\n",
       "      <th>4</th>\n",
       "      <td>13</td>\n",
       "      <td>teen</td>\n",
       "    </tr>\n",
       "    <tr>\n",
       "      <th>5</th>\n",
       "      <td>81</td>\n",
       "      <td>senior-citizen</td>\n",
       "    </tr>\n",
       "    <tr>\n",
       "      <th>6</th>\n",
       "      <td>25</td>\n",
       "      <td>young</td>\n",
       "    </tr>\n",
       "    <tr>\n",
       "      <th>7</th>\n",
       "      <td>11</td>\n",
       "      <td>teen</td>\n",
       "    </tr>\n",
       "    <tr>\n",
       "      <th>8</th>\n",
       "      <td>38</td>\n",
       "      <td>mid-adult</td>\n",
       "    </tr>\n",
       "    <tr>\n",
       "      <th>9</th>\n",
       "      <td>11</td>\n",
       "      <td>teen</td>\n",
       "    </tr>\n",
       "  </tbody>\n",
       "</table>\n",
       "</div>"
      ],
      "text/plain": [
       "   age       age-group\n",
       "0   36       mid-adult\n",
       "1   56             old\n",
       "2   59             old\n",
       "3   78  senior-citizen\n",
       "4   13            teen\n",
       "5   81  senior-citizen\n",
       "6   25           young\n",
       "7   11            teen\n",
       "8   38       mid-adult\n",
       "9   11            teen"
      ]
     },
     "execution_count": 31,
     "metadata": {},
     "output_type": "execute_result"
    }
   ],
   "source": [
    "import pandas as pd\n",
    "import numpy as np\n",
    "age=pd.Series(np.random.randint(100,size=10), name='age')\n",
    "bin=[0,18,25,35,55,75,100]\n",
    "lab=[\"teen\",\"young\",\"adult\",\"mid-adult\",\"old\",\"senior-citizen\"]\n",
    "b=pd.cut(age, bins=bin, labels=lab)\n",
    "df=pd.concat([age, b], axis=1)\n",
    "df.columns=['age','age-group']\n",
    "df"
   ]
  },
  {
   "cell_type": "code",
   "execution_count": 32,
   "id": "bd3bd875-6b56-4a6d-9180-93ca29685dab",
   "metadata": {},
   "outputs": [
    {
     "data": {
      "text/plain": [
       "9.539392014169456"
      ]
     },
     "execution_count": 32,
     "metadata": {},
     "output_type": "execute_result"
    }
   ],
   "source": [
    "a=np.array([1,2,3,4,5,6])\n",
    "b=np.array([6,5,7,8,9,3])\n",
    "c=np.linalg.norm(a-b)\n",
    "c"
   ]
  },
  {
   "cell_type": "code",
   "execution_count": 33,
   "id": "c33d8dbd-edc3-41f5-b75c-e4d010095c07",
   "metadata": {},
   "outputs": [
    {
     "name": "stdout",
     "output_type": "stream",
     "text": [
      "{2, 3, 5, 7, 11, 13, 17, 19, 23, 29}\n"
     ]
    }
   ],
   "source": [
    "# C]Write a set comprehension that generates a set of the first 10 prime numbers. \n",
    "primes = {x for x in range(2, 30) if all(x % y != 0 for y in range(2, int(x**0.5) + 1))}\n",
    "print(primes)"
   ]
  },
  {
   "cell_type": "code",
   "execution_count": 39,
   "id": "08a7caa4-5298-46fb-b5b2-fad25cf661c1",
   "metadata": {},
   "outputs": [
    {
     "data": {
      "text/html": [
       "<div>\n",
       "<style scoped>\n",
       "    .dataframe tbody tr th:only-of-type {\n",
       "        vertical-align: middle;\n",
       "    }\n",
       "\n",
       "    .dataframe tbody tr th {\n",
       "        vertical-align: top;\n",
       "    }\n",
       "\n",
       "    .dataframe thead th {\n",
       "        text-align: right;\n",
       "    }\n",
       "</style>\n",
       "<table border=\"1\" class=\"dataframe\">\n",
       "  <thead>\n",
       "    <tr style=\"text-align: right;\">\n",
       "      <th></th>\n",
       "      <th>col1</th>\n",
       "      <th>col2</th>\n",
       "    </tr>\n",
       "  </thead>\n",
       "  <tbody>\n",
       "    <tr>\n",
       "      <th>0</th>\n",
       "      <td>0.0</td>\n",
       "      <td>0.0</td>\n",
       "    </tr>\n",
       "    <tr>\n",
       "      <th>1</th>\n",
       "      <td>0.5</td>\n",
       "      <td>0.5</td>\n",
       "    </tr>\n",
       "    <tr>\n",
       "      <th>2</th>\n",
       "      <td>1.0</td>\n",
       "      <td>1.0</td>\n",
       "    </tr>\n",
       "  </tbody>\n",
       "</table>\n",
       "</div>"
      ],
      "text/plain": [
       "   col1  col2\n",
       "0   0.0   0.0\n",
       "1   0.5   0.5\n",
       "2   1.0   1.0"
      ]
     },
     "execution_count": 39,
     "metadata": {},
     "output_type": "execute_result"
    }
   ],
   "source": [
    "# 9} DATA PREPARATION IN PANDAS\n",
    "import pandas as pd\n",
    "a=pd.DataFrame({'col1':[10,20,30],'col2':[40,50,60]})\n",
    "df=(a-a.min())/(a.max()-a.min())\n",
    "df"
   ]
  },
  {
   "cell_type": "code",
   "execution_count": 44,
   "id": "569e1543-bb45-4eb2-a936-a5dd887d5bc3",
   "metadata": {},
   "outputs": [
    {
     "name": "stdout",
     "output_type": "stream",
     "text": [
      "col1    1.0\n",
      "col2    1.0\n",
      "dtype: float64\n"
     ]
    }
   ],
   "source": [
    "data = pd.DataFrame({'A':[1,2,3,4,5],\n",
    "                     'B':[2,4,6,8,10],\n",
    "                     'C':[3,6,9,12,15]\n",
    "                    })\n",
    "correlation_with_next_row = df.corrwith(df.shift(-1))\n",
    "print(correlation_with_next_row)"
   ]
  },
  {
   "cell_type": "code",
   "execution_count": 46,
   "id": "dc329ee4-8e93-4c8f-ad76-df15f36df901",
   "metadata": {},
   "outputs": [
    {
     "name": "stdout",
     "output_type": "stream",
     "text": [
      "auto corelation with lag 1:\n",
      "0.20252577850723869\n"
     ]
    }
   ],
   "source": [
    "import pandas as pd\n",
    "import numpy as np\n",
    "num_series = pd.Series(np.random.randint(1,100,100))\n",
    "auto_correlation=num_series.autocorr()\n",
    "print(\"auto corelation with lag 1:\")\n",
    "print(auto_correlation)"
   ]
  },
  {
   "cell_type": "code",
   "execution_count": 47,
   "id": "110bf0fa-c9b7-440f-8df0-8b41c023f640",
   "metadata": {},
   "outputs": [
    {
     "name": "stdout",
     "output_type": "stream",
     "text": [
      "[0 1 2 3 4]\n"
     ]
    }
   ],
   "source": [
    "# B]Create a NumPy array with the same shape and data type as an existing array, but leave its values uninitialized\n",
    "import numpy as np\n",
    "existing_array = np.array([1, 2, 3, 4, 5])\n",
    "new_array = np.empty_like(existing_array)\n",
    "print(new_array)"
   ]
  },
  {
   "cell_type": "code",
   "execution_count": 79,
   "id": "050c9023-60cf-4540-9e73-6ee8da7c1b03",
   "metadata": {},
   "outputs": [
    {
     "name": "stdout",
     "output_type": "stream",
     "text": [
      "Original array:\n",
      "[[1 2 3]\n",
      " [4 5 6]]\n",
      "2\n"
     ]
    }
   ],
   "source": [
    "# B] How do you access the second element of a 2D NumPy array? \n",
    "import numpy as np\n",
    "array = np.array([[1, 2, 3], [4, 5, 6]])\n",
    "print(\"Original array:\")\n",
    "print(array)\n",
    "print(array[0, 1])"
   ]
  },
  {
   "cell_type": "code",
   "execution_count": 51,
   "id": "a6c7908d-b0a2-4240-974d-680001e50e7b",
   "metadata": {},
   "outputs": [
    {
     "data": {
      "text/plain": [
       "array([[ 1,  2,  3],\n",
       "       [ 4,  5,  6],\n",
       "       [ 7,  8,  9],\n",
       "       [10, 11, 12]])"
      ]
     },
     "execution_count": 51,
     "metadata": {},
     "output_type": "execute_result"
    }
   ],
   "source": [
    "#10]A) Multiple arrays \n",
    "#Stack two arrays vertically \n",
    "#Stack two arrays horizontally \n",
    "#Get the common items between two python numpy arrays \n",
    "#Remove from one array those items that exist in another \n",
    "#Get the positions where elements of two arrays match \n",
    "a=np.array([[1,2,3],[4,5,6]])\n",
    "b=np.array([[7,8,9],[10,11,12]])\n",
    "c=np.vstack((a,b))\n",
    "c"
   ]
  },
  {
   "cell_type": "code",
   "execution_count": 52,
   "id": "46026acc-8baf-4c86-9b0c-4fdeabff0007",
   "metadata": {},
   "outputs": [
    {
     "data": {
      "text/plain": [
       "array([[ 1,  2,  3,  7,  8,  9],\n",
       "       [ 4,  5,  6, 10, 11, 12]])"
      ]
     },
     "execution_count": 52,
     "metadata": {},
     "output_type": "execute_result"
    }
   ],
   "source": [
    "a=np.array([[1,2,3],[4,5,6]])\n",
    "b=np.array([[7,8,9],[10,11,12]])\n",
    "c=np.hstack((a,b))\n",
    "c"
   ]
  },
  {
   "cell_type": "code",
   "execution_count": 55,
   "id": "03d333fb-4dd0-4983-afbe-0fe47ad02723",
   "metadata": {},
   "outputs": [
    {
     "data": {
      "text/plain": [
       "array([1, 2, 3])"
      ]
     },
     "execution_count": 55,
     "metadata": {},
     "output_type": "execute_result"
    }
   ],
   "source": [
    "a=np.array([[1,2,3],[4,5,6]])\n",
    "b=np.array([[1,2,3],[10,11,12]])\n",
    "c=np.intersect1d(a,b)\n",
    "c"
   ]
  },
  {
   "cell_type": "code",
   "execution_count": 58,
   "id": "f232e8e3-dfb4-4d14-9c72-f84258771c45",
   "metadata": {},
   "outputs": [
    {
     "data": {
      "text/plain": [
       "array([4, 5, 6])"
      ]
     },
     "execution_count": 58,
     "metadata": {},
     "output_type": "execute_result"
    }
   ],
   "source": [
    "a=np.array([[1,2,3],[4,5,6]])\n",
    "b=np.array([[1,2,3],[10,11,12]])\n",
    "c=np.setdiff1d(a,b)\n",
    "c"
   ]
  },
  {
   "cell_type": "code",
   "execution_count": 59,
   "id": "c32afab5-512e-4959-a45f-dcbecc637f5f",
   "metadata": {},
   "outputs": [
    {
     "data": {
      "text/plain": [
       "(array([0, 0, 0], dtype=int64), array([0, 1, 2], dtype=int64))"
      ]
     },
     "execution_count": 59,
     "metadata": {},
     "output_type": "execute_result"
    }
   ],
   "source": [
    "a=np.array([[1,2,3,4,5,6]])\n",
    "b=np.array([[1,2,3,10,11,12]])\n",
    "c=np.where(a==b)\n",
    "c"
   ]
  },
  {
   "cell_type": "code",
   "execution_count": 62,
   "id": "6b965935-3fa6-4383-91d7-b33669671109",
   "metadata": {},
   "outputs": [
    {
     "name": "stdout",
     "output_type": "stream",
     "text": [
      "normalized array (between 0 and 1)\n",
      "[0.   0.25 0.5  0.75 1.  ]\n"
     ]
    }
   ],
   "source": [
    "# B] Data Transformation \n",
    "#Normalize an array so the values range exactly between 0 and 1 \n",
    "#Compute the min-by-max for each row for a numpy array 2d\n",
    "import numpy as np\n",
    "a=np.array([1.0,2.0,3.0,4.0,5.0])\n",
    "arr_normalized=(a-np.min(a))/(np.max(a)-np.min(a))\n",
    "print(\"normalized array (between 0 and 1)\")\n",
    "print(arr_normalized)\n"
   ]
  },
  {
   "cell_type": "code",
   "execution_count": 67,
   "id": "f30a58a3-98c0-4324-971a-2d710df32848",
   "metadata": {},
   "outputs": [
    {
     "name": "stdout",
     "output_type": "stream",
     "text": [
      "2D array\n",
      "[[1 2 3]\n",
      " [4 5 6]\n",
      " [7 8 9]]\n",
      "Normalized array:\n",
      "[0.33333333 0.66666667 0.77777778]\n"
     ]
    }
   ],
   "source": [
    "a=np.array([[1,2,3],\n",
    "          [4,5,6],\n",
    "          [7,8,9]])\n",
    "min_by_max=np.min(a, axis=1)/np.max(a, axis=1)\n",
    "print(\"2D array\")\n",
    "print(a)\n",
    "print(\"Normalized array:\")\n",
    "print(min_by_max)"
   ]
  },
  {
   "cell_type": "code",
   "execution_count": 74,
   "id": "b8d22550-24fa-44ca-99fc-d730ace5d01a",
   "metadata": {},
   "outputs": [
    {
     "name": "stdin",
     "output_type": "stream",
     "text": [
      "Enter the first integer:  8\n",
      "Enter the second integer:  0\n"
     ]
    },
    {
     "name": "stdout",
     "output_type": "stream",
     "text": [
      "The product is: 0\n"
     ]
    }
   ],
   "source": [
    "#C)Write a program that takes two integer inputs from the user and prints \n",
    "#their product. If either input is not an integer, raise a TypeError exception and print an appropriate error message.\n",
    "def main():\n",
    "    try:\n",
    "        num1 = int(input(\"Enter the first integer: \"))\n",
    "        num2 = int(input(\"Enter the second integer: \"))\n",
    "        product = num1 * num2\n",
    "        print(\"The product is:\", product)\n",
    "    except ValueError:\n",
    "        print(\"Error: Invalid input. Please enter an integer.\")\n",
    "if __name__ == \"__main__\":\n",
    "    main()"
   ]
  },
  {
   "cell_type": "code",
   "execution_count": null,
   "id": "1bae18ff-8c2a-47ff-bb7d-b8b4fdf7474a",
   "metadata": {},
   "outputs": [],
   "source": []
  }
 ],
 "metadata": {
  "kernelspec": {
   "display_name": "Python 3 (ipykernel)",
   "language": "python",
   "name": "python3"
  },
  "language_info": {
   "codemirror_mode": {
    "name": "ipython",
    "version": 3
   },
   "file_extension": ".py",
   "mimetype": "text/x-python",
   "name": "python",
   "nbconvert_exporter": "python",
   "pygments_lexer": "ipython3",
   "version": "3.11.7"
  }
 },
 "nbformat": 4,
 "nbformat_minor": 5
}
